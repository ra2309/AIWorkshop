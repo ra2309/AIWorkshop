{
  "nbformat": 4,
  "nbformat_minor": 0,
  "metadata": {
    "colab": {
      "provenance": [],
      "authorship_tag": "ABX9TyNGWn1pJ2urt+jLXGg3f5LO",
      "include_colab_link": true
    },
    "kernelspec": {
      "name": "python3",
      "display_name": "Python 3"
    },
    "language_info": {
      "name": "python"
    }
  },
  "cells": [
    {
      "cell_type": "markdown",
      "metadata": {
        "id": "view-in-github",
        "colab_type": "text"
      },
      "source": [
        "<a href=\"https://colab.research.google.com/github/ra2309/AIWorkshop/blob/main/Workshop.ipynb\" target=\"_parent\"><img src=\"https://colab.research.google.com/assets/colab-badge.svg\" alt=\"Open In Colab\"/></a>"
      ]
    },
    {
      "cell_type": "markdown",
      "source": [
        "# Importing libraries\n",
        "\n",
        "First, we import all libraries we need in one cell."
      ],
      "metadata": {
        "id": "Vrs49lWSemgl"
      }
    },
    {
      "cell_type": "code",
      "source": [
        "!pip install lasio"
      ],
      "metadata": {
        "id": "EQmBg4WRe9YN"
      },
      "execution_count": null,
      "outputs": []
    },
    {
      "cell_type": "code",
      "source": [
        "from google.colab import drive # for reading\n",
        "import os # for reading\n",
        "import lasio # for reading\n",
        "import pandas as pd # for preprocessing\n",
        "import seaborn as sns # for graphing\n",
        "import matplotlib.pyplot as plt # for graphing\n",
        "from sklearn.preprocessing import StandardScaler,MinMaxScaler,RobustScaler,MaxAbsScaler # for scaling\n",
        "from sklearn.impute import KNNImputer # for missing values\n",
        "from sklearn.model_selection import train_test_split # for model selection\n",
        "from sklearn.linear_model import LinearRegression # for training\n",
        "from sklearn.tree import DecisionTreeRegressor # for training\n",
        "import xgboost as xgb # for training\n",
        "from sklearn.model_selection import RandomizedSearchCV # for hyperparamters\n",
        "import numpy as np # for preprocessing\n",
        "from sklearn.decomposition import PCA # for dimension reduction\n",
        "import torch # for deep learning\n",
        "import torch.nn as nn # for deep learning\n",
        "import torch.optim as optim # for deep learning"
      ],
      "metadata": {
        "id": "DUD6S1cOe3be"
      },
      "execution_count": null,
      "outputs": []
    },
    {
      "cell_type": "markdown",
      "source": [
        "# Reading Data"
      ],
      "metadata": {
        "id": "ujMtLnIoe0TA"
      }
    },
    {
      "cell_type": "markdown",
      "source": [
        "This section is related to reading and mounting data from Google Drive."
      ],
      "metadata": {
        "id": "pbbrFU3tv2S-"
      }
    },
    {
      "cell_type": "code",
      "source": [
        "drive.mount('/content/drive')"
      ],
      "metadata": {
        "id": "HZfLmiqGug2o",
        "colab": {
          "base_uri": "https://localhost:8080/"
        },
        "outputId": "ad91b5a4-bb77-421d-c1ba-9a0ac80f393b"
      },
      "execution_count": 3,
      "outputs": [
        {
          "output_type": "stream",
          "name": "stdout",
          "text": [
            "Mounted at /content/drive\n"
          ]
        }
      ]
    },
    {
      "cell_type": "code",
      "source": [
        "os.chdir('drive/MyDrive/Welllogs')"
      ],
      "metadata": {
        "id": "m2qyuIcqxibn"
      },
      "execution_count": 4,
      "outputs": []
    },
    {
      "cell_type": "markdown",
      "source": [
        "The first step after mounting data is to ignest them. In most industries, it is suffcieient to read only csv, excel and other formats. In oil/gas industry, there are, however, many file formats not readable naturally by pandas or numpy. Thus, we utilize 3rd party libraries like lasio to read las files. We start by installing lasio."
      ],
      "metadata": {
        "id": "rVWVGkvlwYyq"
      }
    },
    {
      "cell_type": "markdown",
      "source": [
        "For the purpose of testing mounting and ingestion, we read one sample file."
      ],
      "metadata": {
        "id": "Wg71W4msxHty"
      }
    },
    {
      "cell_type": "code",
      "source": [
        "las=lasio.read('1052987184.las')"
      ],
      "metadata": {
        "id": "-Y4fjZQlxMPn"
      },
      "execution_count": 6,
      "outputs": []
    },
    {
      "cell_type": "markdown",
      "source": [
        "lasio library enables to transform data into a pandas dataframe."
      ],
      "metadata": {
        "id": "l2Tmqj0ZzJh5"
      }
    },
    {
      "cell_type": "code",
      "source": [
        "df = las.df()"
      ],
      "metadata": {
        "id": "3gKiQZBLzABQ"
      },
      "execution_count": null,
      "outputs": []
    },
    {
      "cell_type": "code",
      "source": [
        "df.head()"
      ],
      "metadata": {
        "colab": {
          "base_uri": "https://localhost:8080/",
          "height": 238
        },
        "id": "lDIXzYe_zT_D",
        "outputId": "e4343768-1aa1-43d7-8fbb-9f73fe589afc"
      },
      "execution_count": null,
      "outputs": [
        {
          "output_type": "execute_result",
          "data": {
            "text/plain": [
              "      ABHV  CNPOR  DCAL  DPOR       GR  RHOB  RHOC      RILD         RILM  \\\n",
              "DEPT                                                                        \n",
              "0.0    NaN    NaN   NaN   NaN  22.9799   NaN   NaN  100000.0       1.0667   \n",
              "0.5    NaN    NaN   NaN   NaN  24.3601   NaN   NaN  100000.0       4.0241   \n",
              "1.0    NaN    NaN   NaN   NaN  26.1486   NaN   NaN  100000.0  100000.0000   \n",
              "1.5    NaN    NaN   NaN   NaN  28.5913   NaN   NaN  100000.0  100000.0000   \n",
              "2.0    NaN    NaN   NaN   NaN  31.5497   NaN   NaN  100000.0  100000.0000   \n",
              "\n",
              "           RLL3     RXORT       SP  TBHV  MEL15  MEL20  MELCAL  \n",
              "DEPT                                                            \n",
              "0.0   2062.7507  151.6998 -91.4477   NaN    NaN    NaN     NaN  \n",
              "0.5   3293.4761  133.4111 -66.0708   NaN    NaN    NaN     NaN  \n",
              "1.0   3339.4282  132.8695 -55.1717   NaN    NaN    NaN     NaN  \n",
              "1.5   3339.6782  132.8666 -50.0492   NaN    NaN    NaN     NaN  \n",
              "2.0   3339.6782  132.8666 -47.8064   NaN    NaN    NaN     NaN  "
            ],
            "text/html": [
              "\n",
              "  <div id=\"df-f6656fc3-8450-4305-a8fe-bb143ab92eaf\" class=\"colab-df-container\">\n",
              "    <div>\n",
              "<style scoped>\n",
              "    .dataframe tbody tr th:only-of-type {\n",
              "        vertical-align: middle;\n",
              "    }\n",
              "\n",
              "    .dataframe tbody tr th {\n",
              "        vertical-align: top;\n",
              "    }\n",
              "\n",
              "    .dataframe thead th {\n",
              "        text-align: right;\n",
              "    }\n",
              "</style>\n",
              "<table border=\"1\" class=\"dataframe\">\n",
              "  <thead>\n",
              "    <tr style=\"text-align: right;\">\n",
              "      <th></th>\n",
              "      <th>ABHV</th>\n",
              "      <th>CNPOR</th>\n",
              "      <th>DCAL</th>\n",
              "      <th>DPOR</th>\n",
              "      <th>GR</th>\n",
              "      <th>RHOB</th>\n",
              "      <th>RHOC</th>\n",
              "      <th>RILD</th>\n",
              "      <th>RILM</th>\n",
              "      <th>RLL3</th>\n",
              "      <th>RXORT</th>\n",
              "      <th>SP</th>\n",
              "      <th>TBHV</th>\n",
              "      <th>MEL15</th>\n",
              "      <th>MEL20</th>\n",
              "      <th>MELCAL</th>\n",
              "    </tr>\n",
              "    <tr>\n",
              "      <th>DEPT</th>\n",
              "      <th></th>\n",
              "      <th></th>\n",
              "      <th></th>\n",
              "      <th></th>\n",
              "      <th></th>\n",
              "      <th></th>\n",
              "      <th></th>\n",
              "      <th></th>\n",
              "      <th></th>\n",
              "      <th></th>\n",
              "      <th></th>\n",
              "      <th></th>\n",
              "      <th></th>\n",
              "      <th></th>\n",
              "      <th></th>\n",
              "      <th></th>\n",
              "    </tr>\n",
              "  </thead>\n",
              "  <tbody>\n",
              "    <tr>\n",
              "      <th>0.0</th>\n",
              "      <td>NaN</td>\n",
              "      <td>NaN</td>\n",
              "      <td>NaN</td>\n",
              "      <td>NaN</td>\n",
              "      <td>22.9799</td>\n",
              "      <td>NaN</td>\n",
              "      <td>NaN</td>\n",
              "      <td>100000.0</td>\n",
              "      <td>1.0667</td>\n",
              "      <td>2062.7507</td>\n",
              "      <td>151.6998</td>\n",
              "      <td>-91.4477</td>\n",
              "      <td>NaN</td>\n",
              "      <td>NaN</td>\n",
              "      <td>NaN</td>\n",
              "      <td>NaN</td>\n",
              "    </tr>\n",
              "    <tr>\n",
              "      <th>0.5</th>\n",
              "      <td>NaN</td>\n",
              "      <td>NaN</td>\n",
              "      <td>NaN</td>\n",
              "      <td>NaN</td>\n",
              "      <td>24.3601</td>\n",
              "      <td>NaN</td>\n",
              "      <td>NaN</td>\n",
              "      <td>100000.0</td>\n",
              "      <td>4.0241</td>\n",
              "      <td>3293.4761</td>\n",
              "      <td>133.4111</td>\n",
              "      <td>-66.0708</td>\n",
              "      <td>NaN</td>\n",
              "      <td>NaN</td>\n",
              "      <td>NaN</td>\n",
              "      <td>NaN</td>\n",
              "    </tr>\n",
              "    <tr>\n",
              "      <th>1.0</th>\n",
              "      <td>NaN</td>\n",
              "      <td>NaN</td>\n",
              "      <td>NaN</td>\n",
              "      <td>NaN</td>\n",
              "      <td>26.1486</td>\n",
              "      <td>NaN</td>\n",
              "      <td>NaN</td>\n",
              "      <td>100000.0</td>\n",
              "      <td>100000.0000</td>\n",
              "      <td>3339.4282</td>\n",
              "      <td>132.8695</td>\n",
              "      <td>-55.1717</td>\n",
              "      <td>NaN</td>\n",
              "      <td>NaN</td>\n",
              "      <td>NaN</td>\n",
              "      <td>NaN</td>\n",
              "    </tr>\n",
              "    <tr>\n",
              "      <th>1.5</th>\n",
              "      <td>NaN</td>\n",
              "      <td>NaN</td>\n",
              "      <td>NaN</td>\n",
              "      <td>NaN</td>\n",
              "      <td>28.5913</td>\n",
              "      <td>NaN</td>\n",
              "      <td>NaN</td>\n",
              "      <td>100000.0</td>\n",
              "      <td>100000.0000</td>\n",
              "      <td>3339.6782</td>\n",
              "      <td>132.8666</td>\n",
              "      <td>-50.0492</td>\n",
              "      <td>NaN</td>\n",
              "      <td>NaN</td>\n",
              "      <td>NaN</td>\n",
              "      <td>NaN</td>\n",
              "    </tr>\n",
              "    <tr>\n",
              "      <th>2.0</th>\n",
              "      <td>NaN</td>\n",
              "      <td>NaN</td>\n",
              "      <td>NaN</td>\n",
              "      <td>NaN</td>\n",
              "      <td>31.5497</td>\n",
              "      <td>NaN</td>\n",
              "      <td>NaN</td>\n",
              "      <td>100000.0</td>\n",
              "      <td>100000.0000</td>\n",
              "      <td>3339.6782</td>\n",
              "      <td>132.8666</td>\n",
              "      <td>-47.8064</td>\n",
              "      <td>NaN</td>\n",
              "      <td>NaN</td>\n",
              "      <td>NaN</td>\n",
              "      <td>NaN</td>\n",
              "    </tr>\n",
              "  </tbody>\n",
              "</table>\n",
              "</div>\n",
              "    <div class=\"colab-df-buttons\">\n",
              "\n",
              "  <div class=\"colab-df-container\">\n",
              "    <button class=\"colab-df-convert\" onclick=\"convertToInteractive('df-f6656fc3-8450-4305-a8fe-bb143ab92eaf')\"\n",
              "            title=\"Convert this dataframe to an interactive table.\"\n",
              "            style=\"display:none;\">\n",
              "\n",
              "  <svg xmlns=\"http://www.w3.org/2000/svg\" height=\"24px\" viewBox=\"0 -960 960 960\">\n",
              "    <path d=\"M120-120v-720h720v720H120Zm60-500h600v-160H180v160Zm220 220h160v-160H400v160Zm0 220h160v-160H400v160ZM180-400h160v-160H180v160Zm440 0h160v-160H620v160ZM180-180h160v-160H180v160Zm440 0h160v-160H620v160Z\"/>\n",
              "  </svg>\n",
              "    </button>\n",
              "\n",
              "  <style>\n",
              "    .colab-df-container {\n",
              "      display:flex;\n",
              "      gap: 12px;\n",
              "    }\n",
              "\n",
              "    .colab-df-convert {\n",
              "      background-color: #E8F0FE;\n",
              "      border: none;\n",
              "      border-radius: 50%;\n",
              "      cursor: pointer;\n",
              "      display: none;\n",
              "      fill: #1967D2;\n",
              "      height: 32px;\n",
              "      padding: 0 0 0 0;\n",
              "      width: 32px;\n",
              "    }\n",
              "\n",
              "    .colab-df-convert:hover {\n",
              "      background-color: #E2EBFA;\n",
              "      box-shadow: 0px 1px 2px rgba(60, 64, 67, 0.3), 0px 1px 3px 1px rgba(60, 64, 67, 0.15);\n",
              "      fill: #174EA6;\n",
              "    }\n",
              "\n",
              "    .colab-df-buttons div {\n",
              "      margin-bottom: 4px;\n",
              "    }\n",
              "\n",
              "    [theme=dark] .colab-df-convert {\n",
              "      background-color: #3B4455;\n",
              "      fill: #D2E3FC;\n",
              "    }\n",
              "\n",
              "    [theme=dark] .colab-df-convert:hover {\n",
              "      background-color: #434B5C;\n",
              "      box-shadow: 0px 1px 3px 1px rgba(0, 0, 0, 0.15);\n",
              "      filter: drop-shadow(0px 1px 2px rgba(0, 0, 0, 0.3));\n",
              "      fill: #FFFFFF;\n",
              "    }\n",
              "  </style>\n",
              "\n",
              "    <script>\n",
              "      const buttonEl =\n",
              "        document.querySelector('#df-f6656fc3-8450-4305-a8fe-bb143ab92eaf button.colab-df-convert');\n",
              "      buttonEl.style.display =\n",
              "        google.colab.kernel.accessAllowed ? 'block' : 'none';\n",
              "\n",
              "      async function convertToInteractive(key) {\n",
              "        const element = document.querySelector('#df-f6656fc3-8450-4305-a8fe-bb143ab92eaf');\n",
              "        const dataTable =\n",
              "          await google.colab.kernel.invokeFunction('convertToInteractive',\n",
              "                                                    [key], {});\n",
              "        if (!dataTable) return;\n",
              "\n",
              "        const docLinkHtml = 'Like what you see? Visit the ' +\n",
              "          '<a target=\"_blank\" href=https://colab.research.google.com/notebooks/data_table.ipynb>data table notebook</a>'\n",
              "          + ' to learn more about interactive tables.';\n",
              "        element.innerHTML = '';\n",
              "        dataTable['output_type'] = 'display_data';\n",
              "        await google.colab.output.renderOutput(dataTable, element);\n",
              "        const docLink = document.createElement('div');\n",
              "        docLink.innerHTML = docLinkHtml;\n",
              "        element.appendChild(docLink);\n",
              "      }\n",
              "    </script>\n",
              "  </div>\n",
              "\n",
              "\n",
              "<div id=\"df-d096fd8f-4f56-4095-9299-6c74816e3a06\">\n",
              "  <button class=\"colab-df-quickchart\" onclick=\"quickchart('df-d096fd8f-4f56-4095-9299-6c74816e3a06')\"\n",
              "            title=\"Suggest charts.\"\n",
              "            style=\"display:none;\">\n",
              "\n",
              "<svg xmlns=\"http://www.w3.org/2000/svg\" height=\"24px\"viewBox=\"0 0 24 24\"\n",
              "     width=\"24px\">\n",
              "    <g>\n",
              "        <path d=\"M19 3H5c-1.1 0-2 .9-2 2v14c0 1.1.9 2 2 2h14c1.1 0 2-.9 2-2V5c0-1.1-.9-2-2-2zM9 17H7v-7h2v7zm4 0h-2V7h2v10zm4 0h-2v-4h2v4z\"/>\n",
              "    </g>\n",
              "</svg>\n",
              "  </button>\n",
              "\n",
              "<style>\n",
              "  .colab-df-quickchart {\n",
              "      --bg-color: #E8F0FE;\n",
              "      --fill-color: #1967D2;\n",
              "      --hover-bg-color: #E2EBFA;\n",
              "      --hover-fill-color: #174EA6;\n",
              "      --disabled-fill-color: #AAA;\n",
              "      --disabled-bg-color: #DDD;\n",
              "  }\n",
              "\n",
              "  [theme=dark] .colab-df-quickchart {\n",
              "      --bg-color: #3B4455;\n",
              "      --fill-color: #D2E3FC;\n",
              "      --hover-bg-color: #434B5C;\n",
              "      --hover-fill-color: #FFFFFF;\n",
              "      --disabled-bg-color: #3B4455;\n",
              "      --disabled-fill-color: #666;\n",
              "  }\n",
              "\n",
              "  .colab-df-quickchart {\n",
              "    background-color: var(--bg-color);\n",
              "    border: none;\n",
              "    border-radius: 50%;\n",
              "    cursor: pointer;\n",
              "    display: none;\n",
              "    fill: var(--fill-color);\n",
              "    height: 32px;\n",
              "    padding: 0;\n",
              "    width: 32px;\n",
              "  }\n",
              "\n",
              "  .colab-df-quickchart:hover {\n",
              "    background-color: var(--hover-bg-color);\n",
              "    box-shadow: 0 1px 2px rgba(60, 64, 67, 0.3), 0 1px 3px 1px rgba(60, 64, 67, 0.15);\n",
              "    fill: var(--button-hover-fill-color);\n",
              "  }\n",
              "\n",
              "  .colab-df-quickchart-complete:disabled,\n",
              "  .colab-df-quickchart-complete:disabled:hover {\n",
              "    background-color: var(--disabled-bg-color);\n",
              "    fill: var(--disabled-fill-color);\n",
              "    box-shadow: none;\n",
              "  }\n",
              "\n",
              "  .colab-df-spinner {\n",
              "    border: 2px solid var(--fill-color);\n",
              "    border-color: transparent;\n",
              "    border-bottom-color: var(--fill-color);\n",
              "    animation:\n",
              "      spin 1s steps(1) infinite;\n",
              "  }\n",
              "\n",
              "  @keyframes spin {\n",
              "    0% {\n",
              "      border-color: transparent;\n",
              "      border-bottom-color: var(--fill-color);\n",
              "      border-left-color: var(--fill-color);\n",
              "    }\n",
              "    20% {\n",
              "      border-color: transparent;\n",
              "      border-left-color: var(--fill-color);\n",
              "      border-top-color: var(--fill-color);\n",
              "    }\n",
              "    30% {\n",
              "      border-color: transparent;\n",
              "      border-left-color: var(--fill-color);\n",
              "      border-top-color: var(--fill-color);\n",
              "      border-right-color: var(--fill-color);\n",
              "    }\n",
              "    40% {\n",
              "      border-color: transparent;\n",
              "      border-right-color: var(--fill-color);\n",
              "      border-top-color: var(--fill-color);\n",
              "    }\n",
              "    60% {\n",
              "      border-color: transparent;\n",
              "      border-right-color: var(--fill-color);\n",
              "    }\n",
              "    80% {\n",
              "      border-color: transparent;\n",
              "      border-right-color: var(--fill-color);\n",
              "      border-bottom-color: var(--fill-color);\n",
              "    }\n",
              "    90% {\n",
              "      border-color: transparent;\n",
              "      border-bottom-color: var(--fill-color);\n",
              "    }\n",
              "  }\n",
              "</style>\n",
              "\n",
              "  <script>\n",
              "    async function quickchart(key) {\n",
              "      const quickchartButtonEl =\n",
              "        document.querySelector('#' + key + ' button');\n",
              "      quickchartButtonEl.disabled = true;  // To prevent multiple clicks.\n",
              "      quickchartButtonEl.classList.add('colab-df-spinner');\n",
              "      try {\n",
              "        const charts = await google.colab.kernel.invokeFunction(\n",
              "            'suggestCharts', [key], {});\n",
              "      } catch (error) {\n",
              "        console.error('Error during call to suggestCharts:', error);\n",
              "      }\n",
              "      quickchartButtonEl.classList.remove('colab-df-spinner');\n",
              "      quickchartButtonEl.classList.add('colab-df-quickchart-complete');\n",
              "    }\n",
              "    (() => {\n",
              "      let quickchartButtonEl =\n",
              "        document.querySelector('#df-d096fd8f-4f56-4095-9299-6c74816e3a06 button');\n",
              "      quickchartButtonEl.style.display =\n",
              "        google.colab.kernel.accessAllowed ? 'block' : 'none';\n",
              "    })();\n",
              "  </script>\n",
              "</div>\n",
              "    </div>\n",
              "  </div>\n"
            ]
          },
          "metadata": {},
          "execution_count": 6
        }
      ]
    },
    {
      "cell_type": "markdown",
      "source": [
        "Now, we go ahead and read whole set of data. We create an empty list of dataframes where we will append single dataframe read from las."
      ],
      "metadata": {
        "id": "8sUc_8DezZw4"
      }
    },
    {
      "cell_type": "code",
      "source": [
        "dfs = []\n",
        "for file in os.listdir():\n",
        "  print(file)\n",
        "  las = lasio.read(file)\n",
        "  df = las.df()\n",
        "  dfs.append(df)"
      ],
      "metadata": {
        "colab": {
          "base_uri": "https://localhost:8080/",
          "height": 1000
        },
        "id": "0OQVBpdSzf8Q",
        "outputId": "fb8360a5-7c64-405c-a952-62d3ad8bdadb"
      },
      "execution_count": null,
      "outputs": [
        {
          "output_type": "stream",
          "name": "stdout",
          "text": [
            "1052987184.las\n",
            "1052987195.las\n",
            "1052987201.las\n",
            "1052987218.las\n",
            "1052987223.las\n",
            "1052987227.las\n",
            "1052987231.las\n",
            "1052987237.las\n",
            "1052987257.las\n",
            "1052997244.las\n",
            "1053009232.las\n",
            "1053011951.las\n",
            "1053014529.las\n",
            "1053017310.las\n",
            "1053051790.las\n",
            "1053051791.las\n",
            "1053051799.las\n",
            "1053051804.las\n",
            "1053076196.las\n",
            "1053076205.las\n",
            "1053076219.las\n",
            "1053076225.las\n",
            "1053136713.las\n",
            "1053145757.las\n",
            "1053192852.las\n",
            "1053192858.las\n",
            "1053225933.las\n",
            "1053230972.las\n",
            "1053239547.las\n",
            "1053239553.las\n",
            "1053240861.las\n",
            "1053240866.las\n",
            "1053240894.las\n",
            "1053240902.las\n",
            "1053243844.las\n",
            "1053243845.las\n",
            "1053243853.las\n",
            "1053243854.las\n",
            "1053243857.las\n",
            "1053244666.las\n",
            "1053246764.las\n",
            "1053247619.las\n",
            "1053251243.las\n",
            "1053251247.las\n",
            "1053251280.las\n",
            "1053253945.las\n",
            "1053253979.las\n",
            "1053262500.las\n",
            "1053262508.las\n",
            "1053263309.las\n",
            "1053263319.las\n",
            "1053264006.las\n",
            "1053268121.las\n",
            "1053271825.las\n",
            "1053271839.las\n",
            "1053271848.las\n",
            "1053271856.las\n",
            "1053271865.las\n",
            "1053276018.las\n",
            "1053281971.las\n",
            "1053282080.las\n",
            "1053282085.las\n",
            "1053285821.las\n",
            "1053286544.las\n",
            "1053292672.las\n"
          ]
        },
        {
          "output_type": "error",
          "ename": "KeyError",
          "evalue": "ignored",
          "traceback": [
            "\u001b[0;31m---------------------------------------------------------------------------\u001b[0m",
            "\u001b[0;31mKeyError\u001b[0m                                  Traceback (most recent call last)",
            "\u001b[0;32m<ipython-input-8-c90e94cca92d>\u001b[0m in \u001b[0;36m<cell line: 2>\u001b[0;34m()\u001b[0m\n\u001b[1;32m      2\u001b[0m \u001b[0;32mfor\u001b[0m \u001b[0mfile\u001b[0m \u001b[0;32min\u001b[0m \u001b[0mos\u001b[0m\u001b[0;34m.\u001b[0m\u001b[0mlistdir\u001b[0m\u001b[0;34m(\u001b[0m\u001b[0;34m)\u001b[0m\u001b[0;34m:\u001b[0m\u001b[0;34m\u001b[0m\u001b[0;34m\u001b[0m\u001b[0m\n\u001b[1;32m      3\u001b[0m   \u001b[0mprint\u001b[0m\u001b[0;34m(\u001b[0m\u001b[0mfile\u001b[0m\u001b[0;34m)\u001b[0m\u001b[0;34m\u001b[0m\u001b[0;34m\u001b[0m\u001b[0m\n\u001b[0;32m----> 4\u001b[0;31m   \u001b[0mlas\u001b[0m \u001b[0;34m=\u001b[0m \u001b[0mlasio\u001b[0m\u001b[0;34m.\u001b[0m\u001b[0mread\u001b[0m\u001b[0;34m(\u001b[0m\u001b[0mfile\u001b[0m\u001b[0;34m)\u001b[0m\u001b[0;34m\u001b[0m\u001b[0;34m\u001b[0m\u001b[0m\n\u001b[0m\u001b[1;32m      5\u001b[0m   \u001b[0mdf\u001b[0m \u001b[0;34m=\u001b[0m \u001b[0mlas\u001b[0m\u001b[0;34m.\u001b[0m\u001b[0mdf\u001b[0m\u001b[0;34m(\u001b[0m\u001b[0;34m)\u001b[0m\u001b[0;34m\u001b[0m\u001b[0;34m\u001b[0m\u001b[0m\n\u001b[1;32m      6\u001b[0m   \u001b[0mdfs\u001b[0m\u001b[0;34m.\u001b[0m\u001b[0mappend\u001b[0m\u001b[0;34m(\u001b[0m\u001b[0mdf\u001b[0m\u001b[0;34m)\u001b[0m\u001b[0;34m\u001b[0m\u001b[0;34m\u001b[0m\u001b[0m\n",
            "\u001b[0;32m/usr/local/lib/python3.10/dist-packages/lasio/__init__.py\u001b[0m in \u001b[0;36mread\u001b[0;34m(file_ref, **kwargs)\u001b[0m\n\u001b[1;32m    146\u001b[0m \u001b[0;34m\u001b[0m\u001b[0m\n\u001b[1;32m    147\u001b[0m     \"\"\"\n\u001b[0;32m--> 148\u001b[0;31m     \u001b[0;32mreturn\u001b[0m \u001b[0mLASFile\u001b[0m\u001b[0;34m(\u001b[0m\u001b[0mfile_ref\u001b[0m\u001b[0;34m,\u001b[0m \u001b[0;34m**\u001b[0m\u001b[0mkwargs\u001b[0m\u001b[0;34m)\u001b[0m\u001b[0;34m\u001b[0m\u001b[0;34m\u001b[0m\u001b[0m\n\u001b[0m",
            "\u001b[0;32m/usr/local/lib/python3.10/dist-packages/lasio/las.py\u001b[0m in \u001b[0;36m__init__\u001b[0;34m(self, file_ref, **read_kwargs)\u001b[0m\n\u001b[1;32m    137\u001b[0m \u001b[0;34m\u001b[0m\u001b[0m\n\u001b[1;32m    138\u001b[0m         \u001b[0;32mif\u001b[0m \u001b[0;32mnot\u001b[0m \u001b[0;34m(\u001b[0m\u001b[0mfile_ref\u001b[0m \u001b[0;32mis\u001b[0m \u001b[0;32mNone\u001b[0m\u001b[0;34m)\u001b[0m\u001b[0;34m:\u001b[0m\u001b[0;34m\u001b[0m\u001b[0;34m\u001b[0m\u001b[0m\n\u001b[0;32m--> 139\u001b[0;31m             \u001b[0mself\u001b[0m\u001b[0;34m.\u001b[0m\u001b[0mread\u001b[0m\u001b[0;34m(\u001b[0m\u001b[0mfile_ref\u001b[0m\u001b[0;34m,\u001b[0m \u001b[0;34m**\u001b[0m\u001b[0mread_kwargs\u001b[0m\u001b[0;34m)\u001b[0m\u001b[0;34m\u001b[0m\u001b[0;34m\u001b[0m\u001b[0m\n\u001b[0m\u001b[1;32m    140\u001b[0m \u001b[0;34m\u001b[0m\u001b[0m\n\u001b[1;32m    141\u001b[0m     def read(\n",
            "\u001b[0;32m/usr/local/lib/python3.10/dist-packages/lasio/las.py\u001b[0m in \u001b[0;36mread\u001b[0;34m(self, file_ref, ignore_header_errors, ignore_comments, ignore_data_comments, mnemonic_case, ignore_data, engine, use_normal_engine_for_wrapped, read_policy, null_policy, accept_regexp_sub_recommendations, index_unit, dtypes, **kwargs)\u001b[0m\n\u001b[1;32m    260\u001b[0m             \u001b[0mlogger\u001b[0m\u001b[0;34m.\u001b[0m\u001b[0mdebug\u001b[0m\u001b[0;34m(\u001b[0m\u001b[0;34m\"Found {} sections\"\u001b[0m\u001b[0;34m.\u001b[0m\u001b[0mformat\u001b[0m\u001b[0;34m(\u001b[0m\u001b[0mlen\u001b[0m\u001b[0;34m(\u001b[0m\u001b[0msection_positions\u001b[0m\u001b[0;34m)\u001b[0m\u001b[0;34m)\u001b[0m\u001b[0;34m)\u001b[0m\u001b[0;34m\u001b[0m\u001b[0;34m\u001b[0m\u001b[0m\n\u001b[1;32m    261\u001b[0m             \u001b[0;32mif\u001b[0m \u001b[0mlen\u001b[0m\u001b[0;34m(\u001b[0m\u001b[0msection_positions\u001b[0m\u001b[0;34m)\u001b[0m \u001b[0;34m==\u001b[0m \u001b[0;36m0\u001b[0m\u001b[0;34m:\u001b[0m\u001b[0;34m\u001b[0m\u001b[0;34m\u001b[0m\u001b[0m\n\u001b[0;32m--> 262\u001b[0;31m                 \u001b[0;32mraise\u001b[0m \u001b[0mKeyError\u001b[0m\u001b[0;34m(\u001b[0m\u001b[0;34m\"No ~ sections found. Is this a LAS file?\"\u001b[0m\u001b[0;34m)\u001b[0m\u001b[0;34m\u001b[0m\u001b[0;34m\u001b[0m\u001b[0m\n\u001b[0m\u001b[1;32m    263\u001b[0m \u001b[0;34m\u001b[0m\u001b[0m\n\u001b[1;32m    264\u001b[0m             \u001b[0mdata_section_indices\u001b[0m \u001b[0;34m=\u001b[0m \u001b[0;34m[\u001b[0m\u001b[0;34m]\u001b[0m\u001b[0;34m\u001b[0m\u001b[0;34m\u001b[0m\u001b[0m\n",
            "\u001b[0;31mKeyError\u001b[0m: 'No ~ sections found. Is this a LAS file?'"
          ]
        }
      ]
    },
    {
      "cell_type": "markdown",
      "source": [
        "We discovered an error which is a natural situation in automation and machine learning workflow. I printed list of files and shown the file that is troublesome. Now, if we open it with a text editor we will clearly see the error reason. We try one more time this time with try and except. In addition, to identify different wells from each other in this dataframe, we record name of the well."
      ],
      "metadata": {
        "id": "l1LdeUOz0aw5"
      }
    },
    {
      "cell_type": "code",
      "source": [
        "dfs = []\n",
        "for file in os.listdir():\n",
        "  try:\n",
        "    las = lasio.read(file)\n",
        "    df = las.df()\n",
        "    df['WELL'] = file.split('.las')[0]\n",
        "    dfs.append(df)\n",
        "  except Exception as e:\n",
        "    print(file)\n",
        "    print(e)"
      ],
      "metadata": {
        "colab": {
          "base_uri": "https://localhost:8080/"
        },
        "id": "6TKea0UI1La_",
        "outputId": "99dc8dda-99b4-4b08-9bc7-41f9bc7a07c6"
      },
      "execution_count": 7,
      "outputs": [
        {
          "output_type": "stream",
          "name": "stdout",
          "text": [
            "1053292672.las\n",
            "'No ~ sections found. Is this a LAS file?'\n"
          ]
        }
      ]
    },
    {
      "cell_type": "markdown",
      "source": [
        "Now, we convert list of dfs into a one single dataframe with a command called concat."
      ],
      "metadata": {
        "id": "b2-XlCFd1ywK"
      }
    },
    {
      "cell_type": "code",
      "source": [
        "df = pd.concat(dfs)"
      ],
      "metadata": {
        "id": "77uvubgZ1i0m"
      },
      "execution_count": 8,
      "outputs": []
    },
    {
      "cell_type": "markdown",
      "source": [
        "# EDA"
      ],
      "metadata": {
        "id": "e8auH_ZhigVd"
      }
    },
    {
      "cell_type": "code",
      "source": [
        "df.describe()"
      ],
      "metadata": {
        "id": "JFw9q0Ydie1d",
        "colab": {
          "base_uri": "https://localhost:8080/",
          "height": 350
        },
        "outputId": "59a9f489-edcd-463e-971b-1df168d72888"
      },
      "execution_count": 7,
      "outputs": [
        {
          "output_type": "execute_result",
          "data": {
            "text/plain": [
              "                ABHV          CNPOR           DCAL           DPOR  \\\n",
              "count  137493.000000  382507.000000  438320.000000  430143.000000   \n",
              "mean      370.746050      21.099013       5.912026      83.178145   \n",
              "std       307.858817      11.402174       3.870955    1850.792462   \n",
              "min         0.000000     -50.000000     -56.144300    -308.766800   \n",
              "25%       162.557800      11.255050       0.808800       6.849500   \n",
              "50%       273.229500      21.264700       7.854200      13.476500   \n",
              "75%       480.688000      30.213900       8.158300      34.556400   \n",
              "max      1520.314300     100.000000      96.950000   58595.652300   \n",
              "\n",
              "                  GR           RHOB           RHOC           RILD  \\\n",
              "count  573870.000000  388833.000000  429901.000000  681552.000000   \n",
              "mean       72.081446       1.611399       0.085377    1591.842291   \n",
              "std        39.718633      25.485010       0.108801   12446.531850   \n",
              "min         1.146600    -999.140000      -3.714400       0.131100   \n",
              "25%        42.911600       2.048800       0.031200       3.209800   \n",
              "50%        69.069000       2.453000       0.067500       5.534100   \n",
              "75%        94.701475       2.583900       0.120900      11.639225   \n",
              "max      1534.622200       7.989900       1.717500  100000.000000   \n",
              "\n",
              "                RILM           RLL3  ...         DPHL          PEF  \\\n",
              "count  681713.000000  680997.000000  ...  4478.000000  4473.000000   \n",
              "mean     4666.444287      61.817155  ...     0.066774     3.850526   \n",
              "std     21057.604061    1146.770384  ...     0.054800     0.632465   \n",
              "min         0.199200     -12.302700  ...    -0.030000     1.964800   \n",
              "25%         3.019800       4.527300  ...     0.024400     3.388900   \n",
              "50%         5.106300       7.748800  ...     0.053350     3.798300   \n",
              "75%        11.399400      18.112000  ...     0.094400     4.328500   \n",
              "max    100000.000000  100000.000000  ...     0.304300     5.810800   \n",
              "\n",
              "              NPHL         PXND         MINV         MNOR         DPHS  \\\n",
              "count  4458.000000  4458.000000  4438.000000  4438.000000  4478.000000   \n",
              "mean      0.129283     0.112766    20.645875    17.392316     0.029899   \n",
              "std       0.091031     0.070958    21.596368    18.095362     0.056966   \n",
              "min       0.013800     0.010600     0.394100     0.795900    -0.070700   \n",
              "25%       0.056600     0.053600     4.980300     4.275900    -0.014100   \n",
              "50%       0.102350     0.095500    10.695150     9.331850     0.015900   \n",
              "75%       0.178600     0.156475    31.255125    25.038225     0.058600   \n",
              "max       0.498200     0.350500   143.002000   114.609200     0.276800   \n",
              "\n",
              "              NPHS         DPHD         NPHD  \n",
              "count  4458.000000  4478.000000  4458.000000  \n",
              "mean      0.160015     0.149805     0.107702  \n",
              "std       0.096605     0.049924     0.078123  \n",
              "min       0.038200     0.061700     0.006000  \n",
              "25%       0.082900     0.111200     0.045300  \n",
              "50%       0.131200     0.137550     0.086000  \n",
              "75%       0.211100     0.175000     0.149400  \n",
              "max       0.538600     0.366200     0.433900  \n",
              "\n",
              "[8 rows x 56 columns]"
            ],
            "text/html": [
              "\n",
              "  <div id=\"df-a3bbc041-728d-4e20-812c-e651f28032b8\" class=\"colab-df-container\">\n",
              "    <div>\n",
              "<style scoped>\n",
              "    .dataframe tbody tr th:only-of-type {\n",
              "        vertical-align: middle;\n",
              "    }\n",
              "\n",
              "    .dataframe tbody tr th {\n",
              "        vertical-align: top;\n",
              "    }\n",
              "\n",
              "    .dataframe thead th {\n",
              "        text-align: right;\n",
              "    }\n",
              "</style>\n",
              "<table border=\"1\" class=\"dataframe\">\n",
              "  <thead>\n",
              "    <tr style=\"text-align: right;\">\n",
              "      <th></th>\n",
              "      <th>ABHV</th>\n",
              "      <th>CNPOR</th>\n",
              "      <th>DCAL</th>\n",
              "      <th>DPOR</th>\n",
              "      <th>GR</th>\n",
              "      <th>RHOB</th>\n",
              "      <th>RHOC</th>\n",
              "      <th>RILD</th>\n",
              "      <th>RILM</th>\n",
              "      <th>RLL3</th>\n",
              "      <th>...</th>\n",
              "      <th>DPHL</th>\n",
              "      <th>PEF</th>\n",
              "      <th>NPHL</th>\n",
              "      <th>PXND</th>\n",
              "      <th>MINV</th>\n",
              "      <th>MNOR</th>\n",
              "      <th>DPHS</th>\n",
              "      <th>NPHS</th>\n",
              "      <th>DPHD</th>\n",
              "      <th>NPHD</th>\n",
              "    </tr>\n",
              "  </thead>\n",
              "  <tbody>\n",
              "    <tr>\n",
              "      <th>count</th>\n",
              "      <td>137493.000000</td>\n",
              "      <td>382507.000000</td>\n",
              "      <td>438320.000000</td>\n",
              "      <td>430143.000000</td>\n",
              "      <td>573870.000000</td>\n",
              "      <td>388833.000000</td>\n",
              "      <td>429901.000000</td>\n",
              "      <td>681552.000000</td>\n",
              "      <td>681713.000000</td>\n",
              "      <td>680997.000000</td>\n",
              "      <td>...</td>\n",
              "      <td>4478.000000</td>\n",
              "      <td>4473.000000</td>\n",
              "      <td>4458.000000</td>\n",
              "      <td>4458.000000</td>\n",
              "      <td>4438.000000</td>\n",
              "      <td>4438.000000</td>\n",
              "      <td>4478.000000</td>\n",
              "      <td>4458.000000</td>\n",
              "      <td>4478.000000</td>\n",
              "      <td>4458.000000</td>\n",
              "    </tr>\n",
              "    <tr>\n",
              "      <th>mean</th>\n",
              "      <td>370.746050</td>\n",
              "      <td>21.099013</td>\n",
              "      <td>5.912026</td>\n",
              "      <td>83.178145</td>\n",
              "      <td>72.081446</td>\n",
              "      <td>1.611399</td>\n",
              "      <td>0.085377</td>\n",
              "      <td>1591.842291</td>\n",
              "      <td>4666.444287</td>\n",
              "      <td>61.817155</td>\n",
              "      <td>...</td>\n",
              "      <td>0.066774</td>\n",
              "      <td>3.850526</td>\n",
              "      <td>0.129283</td>\n",
              "      <td>0.112766</td>\n",
              "      <td>20.645875</td>\n",
              "      <td>17.392316</td>\n",
              "      <td>0.029899</td>\n",
              "      <td>0.160015</td>\n",
              "      <td>0.149805</td>\n",
              "      <td>0.107702</td>\n",
              "    </tr>\n",
              "    <tr>\n",
              "      <th>std</th>\n",
              "      <td>307.858817</td>\n",
              "      <td>11.402174</td>\n",
              "      <td>3.870955</td>\n",
              "      <td>1850.792462</td>\n",
              "      <td>39.718633</td>\n",
              "      <td>25.485010</td>\n",
              "      <td>0.108801</td>\n",
              "      <td>12446.531850</td>\n",
              "      <td>21057.604061</td>\n",
              "      <td>1146.770384</td>\n",
              "      <td>...</td>\n",
              "      <td>0.054800</td>\n",
              "      <td>0.632465</td>\n",
              "      <td>0.091031</td>\n",
              "      <td>0.070958</td>\n",
              "      <td>21.596368</td>\n",
              "      <td>18.095362</td>\n",
              "      <td>0.056966</td>\n",
              "      <td>0.096605</td>\n",
              "      <td>0.049924</td>\n",
              "      <td>0.078123</td>\n",
              "    </tr>\n",
              "    <tr>\n",
              "      <th>min</th>\n",
              "      <td>0.000000</td>\n",
              "      <td>-50.000000</td>\n",
              "      <td>-56.144300</td>\n",
              "      <td>-308.766800</td>\n",
              "      <td>1.146600</td>\n",
              "      <td>-999.140000</td>\n",
              "      <td>-3.714400</td>\n",
              "      <td>0.131100</td>\n",
              "      <td>0.199200</td>\n",
              "      <td>-12.302700</td>\n",
              "      <td>...</td>\n",
              "      <td>-0.030000</td>\n",
              "      <td>1.964800</td>\n",
              "      <td>0.013800</td>\n",
              "      <td>0.010600</td>\n",
              "      <td>0.394100</td>\n",
              "      <td>0.795900</td>\n",
              "      <td>-0.070700</td>\n",
              "      <td>0.038200</td>\n",
              "      <td>0.061700</td>\n",
              "      <td>0.006000</td>\n",
              "    </tr>\n",
              "    <tr>\n",
              "      <th>25%</th>\n",
              "      <td>162.557800</td>\n",
              "      <td>11.255050</td>\n",
              "      <td>0.808800</td>\n",
              "      <td>6.849500</td>\n",
              "      <td>42.911600</td>\n",
              "      <td>2.048800</td>\n",
              "      <td>0.031200</td>\n",
              "      <td>3.209800</td>\n",
              "      <td>3.019800</td>\n",
              "      <td>4.527300</td>\n",
              "      <td>...</td>\n",
              "      <td>0.024400</td>\n",
              "      <td>3.388900</td>\n",
              "      <td>0.056600</td>\n",
              "      <td>0.053600</td>\n",
              "      <td>4.980300</td>\n",
              "      <td>4.275900</td>\n",
              "      <td>-0.014100</td>\n",
              "      <td>0.082900</td>\n",
              "      <td>0.111200</td>\n",
              "      <td>0.045300</td>\n",
              "    </tr>\n",
              "    <tr>\n",
              "      <th>50%</th>\n",
              "      <td>273.229500</td>\n",
              "      <td>21.264700</td>\n",
              "      <td>7.854200</td>\n",
              "      <td>13.476500</td>\n",
              "      <td>69.069000</td>\n",
              "      <td>2.453000</td>\n",
              "      <td>0.067500</td>\n",
              "      <td>5.534100</td>\n",
              "      <td>5.106300</td>\n",
              "      <td>7.748800</td>\n",
              "      <td>...</td>\n",
              "      <td>0.053350</td>\n",
              "      <td>3.798300</td>\n",
              "      <td>0.102350</td>\n",
              "      <td>0.095500</td>\n",
              "      <td>10.695150</td>\n",
              "      <td>9.331850</td>\n",
              "      <td>0.015900</td>\n",
              "      <td>0.131200</td>\n",
              "      <td>0.137550</td>\n",
              "      <td>0.086000</td>\n",
              "    </tr>\n",
              "    <tr>\n",
              "      <th>75%</th>\n",
              "      <td>480.688000</td>\n",
              "      <td>30.213900</td>\n",
              "      <td>8.158300</td>\n",
              "      <td>34.556400</td>\n",
              "      <td>94.701475</td>\n",
              "      <td>2.583900</td>\n",
              "      <td>0.120900</td>\n",
              "      <td>11.639225</td>\n",
              "      <td>11.399400</td>\n",
              "      <td>18.112000</td>\n",
              "      <td>...</td>\n",
              "      <td>0.094400</td>\n",
              "      <td>4.328500</td>\n",
              "      <td>0.178600</td>\n",
              "      <td>0.156475</td>\n",
              "      <td>31.255125</td>\n",
              "      <td>25.038225</td>\n",
              "      <td>0.058600</td>\n",
              "      <td>0.211100</td>\n",
              "      <td>0.175000</td>\n",
              "      <td>0.149400</td>\n",
              "    </tr>\n",
              "    <tr>\n",
              "      <th>max</th>\n",
              "      <td>1520.314300</td>\n",
              "      <td>100.000000</td>\n",
              "      <td>96.950000</td>\n",
              "      <td>58595.652300</td>\n",
              "      <td>1534.622200</td>\n",
              "      <td>7.989900</td>\n",
              "      <td>1.717500</td>\n",
              "      <td>100000.000000</td>\n",
              "      <td>100000.000000</td>\n",
              "      <td>100000.000000</td>\n",
              "      <td>...</td>\n",
              "      <td>0.304300</td>\n",
              "      <td>5.810800</td>\n",
              "      <td>0.498200</td>\n",
              "      <td>0.350500</td>\n",
              "      <td>143.002000</td>\n",
              "      <td>114.609200</td>\n",
              "      <td>0.276800</td>\n",
              "      <td>0.538600</td>\n",
              "      <td>0.366200</td>\n",
              "      <td>0.433900</td>\n",
              "    </tr>\n",
              "  </tbody>\n",
              "</table>\n",
              "<p>8 rows × 56 columns</p>\n",
              "</div>\n",
              "    <div class=\"colab-df-buttons\">\n",
              "\n",
              "  <div class=\"colab-df-container\">\n",
              "    <button class=\"colab-df-convert\" onclick=\"convertToInteractive('df-a3bbc041-728d-4e20-812c-e651f28032b8')\"\n",
              "            title=\"Convert this dataframe to an interactive table.\"\n",
              "            style=\"display:none;\">\n",
              "\n",
              "  <svg xmlns=\"http://www.w3.org/2000/svg\" height=\"24px\" viewBox=\"0 -960 960 960\">\n",
              "    <path d=\"M120-120v-720h720v720H120Zm60-500h600v-160H180v160Zm220 220h160v-160H400v160Zm0 220h160v-160H400v160ZM180-400h160v-160H180v160Zm440 0h160v-160H620v160ZM180-180h160v-160H180v160Zm440 0h160v-160H620v160Z\"/>\n",
              "  </svg>\n",
              "    </button>\n",
              "\n",
              "  <style>\n",
              "    .colab-df-container {\n",
              "      display:flex;\n",
              "      gap: 12px;\n",
              "    }\n",
              "\n",
              "    .colab-df-convert {\n",
              "      background-color: #E8F0FE;\n",
              "      border: none;\n",
              "      border-radius: 50%;\n",
              "      cursor: pointer;\n",
              "      display: none;\n",
              "      fill: #1967D2;\n",
              "      height: 32px;\n",
              "      padding: 0 0 0 0;\n",
              "      width: 32px;\n",
              "    }\n",
              "\n",
              "    .colab-df-convert:hover {\n",
              "      background-color: #E2EBFA;\n",
              "      box-shadow: 0px 1px 2px rgba(60, 64, 67, 0.3), 0px 1px 3px 1px rgba(60, 64, 67, 0.15);\n",
              "      fill: #174EA6;\n",
              "    }\n",
              "\n",
              "    .colab-df-buttons div {\n",
              "      margin-bottom: 4px;\n",
              "    }\n",
              "\n",
              "    [theme=dark] .colab-df-convert {\n",
              "      background-color: #3B4455;\n",
              "      fill: #D2E3FC;\n",
              "    }\n",
              "\n",
              "    [theme=dark] .colab-df-convert:hover {\n",
              "      background-color: #434B5C;\n",
              "      box-shadow: 0px 1px 3px 1px rgba(0, 0, 0, 0.15);\n",
              "      filter: drop-shadow(0px 1px 2px rgba(0, 0, 0, 0.3));\n",
              "      fill: #FFFFFF;\n",
              "    }\n",
              "  </style>\n",
              "\n",
              "    <script>\n",
              "      const buttonEl =\n",
              "        document.querySelector('#df-a3bbc041-728d-4e20-812c-e651f28032b8 button.colab-df-convert');\n",
              "      buttonEl.style.display =\n",
              "        google.colab.kernel.accessAllowed ? 'block' : 'none';\n",
              "\n",
              "      async function convertToInteractive(key) {\n",
              "        const element = document.querySelector('#df-a3bbc041-728d-4e20-812c-e651f28032b8');\n",
              "        const dataTable =\n",
              "          await google.colab.kernel.invokeFunction('convertToInteractive',\n",
              "                                                    [key], {});\n",
              "        if (!dataTable) return;\n",
              "\n",
              "        const docLinkHtml = 'Like what you see? Visit the ' +\n",
              "          '<a target=\"_blank\" href=https://colab.research.google.com/notebooks/data_table.ipynb>data table notebook</a>'\n",
              "          + ' to learn more about interactive tables.';\n",
              "        element.innerHTML = '';\n",
              "        dataTable['output_type'] = 'display_data';\n",
              "        await google.colab.output.renderOutput(dataTable, element);\n",
              "        const docLink = document.createElement('div');\n",
              "        docLink.innerHTML = docLinkHtml;\n",
              "        element.appendChild(docLink);\n",
              "      }\n",
              "    </script>\n",
              "  </div>\n",
              "\n",
              "\n",
              "<div id=\"df-597e46eb-65fd-4303-b272-4bef85c557a5\">\n",
              "  <button class=\"colab-df-quickchart\" onclick=\"quickchart('df-597e46eb-65fd-4303-b272-4bef85c557a5')\"\n",
              "            title=\"Suggest charts.\"\n",
              "            style=\"display:none;\">\n",
              "\n",
              "<svg xmlns=\"http://www.w3.org/2000/svg\" height=\"24px\"viewBox=\"0 0 24 24\"\n",
              "     width=\"24px\">\n",
              "    <g>\n",
              "        <path d=\"M19 3H5c-1.1 0-2 .9-2 2v14c0 1.1.9 2 2 2h14c1.1 0 2-.9 2-2V5c0-1.1-.9-2-2-2zM9 17H7v-7h2v7zm4 0h-2V7h2v10zm4 0h-2v-4h2v4z\"/>\n",
              "    </g>\n",
              "</svg>\n",
              "  </button>\n",
              "\n",
              "<style>\n",
              "  .colab-df-quickchart {\n",
              "      --bg-color: #E8F0FE;\n",
              "      --fill-color: #1967D2;\n",
              "      --hover-bg-color: #E2EBFA;\n",
              "      --hover-fill-color: #174EA6;\n",
              "      --disabled-fill-color: #AAA;\n",
              "      --disabled-bg-color: #DDD;\n",
              "  }\n",
              "\n",
              "  [theme=dark] .colab-df-quickchart {\n",
              "      --bg-color: #3B4455;\n",
              "      --fill-color: #D2E3FC;\n",
              "      --hover-bg-color: #434B5C;\n",
              "      --hover-fill-color: #FFFFFF;\n",
              "      --disabled-bg-color: #3B4455;\n",
              "      --disabled-fill-color: #666;\n",
              "  }\n",
              "\n",
              "  .colab-df-quickchart {\n",
              "    background-color: var(--bg-color);\n",
              "    border: none;\n",
              "    border-radius: 50%;\n",
              "    cursor: pointer;\n",
              "    display: none;\n",
              "    fill: var(--fill-color);\n",
              "    height: 32px;\n",
              "    padding: 0;\n",
              "    width: 32px;\n",
              "  }\n",
              "\n",
              "  .colab-df-quickchart:hover {\n",
              "    background-color: var(--hover-bg-color);\n",
              "    box-shadow: 0 1px 2px rgba(60, 64, 67, 0.3), 0 1px 3px 1px rgba(60, 64, 67, 0.15);\n",
              "    fill: var(--button-hover-fill-color);\n",
              "  }\n",
              "\n",
              "  .colab-df-quickchart-complete:disabled,\n",
              "  .colab-df-quickchart-complete:disabled:hover {\n",
              "    background-color: var(--disabled-bg-color);\n",
              "    fill: var(--disabled-fill-color);\n",
              "    box-shadow: none;\n",
              "  }\n",
              "\n",
              "  .colab-df-spinner {\n",
              "    border: 2px solid var(--fill-color);\n",
              "    border-color: transparent;\n",
              "    border-bottom-color: var(--fill-color);\n",
              "    animation:\n",
              "      spin 1s steps(1) infinite;\n",
              "  }\n",
              "\n",
              "  @keyframes spin {\n",
              "    0% {\n",
              "      border-color: transparent;\n",
              "      border-bottom-color: var(--fill-color);\n",
              "      border-left-color: var(--fill-color);\n",
              "    }\n",
              "    20% {\n",
              "      border-color: transparent;\n",
              "      border-left-color: var(--fill-color);\n",
              "      border-top-color: var(--fill-color);\n",
              "    }\n",
              "    30% {\n",
              "      border-color: transparent;\n",
              "      border-left-color: var(--fill-color);\n",
              "      border-top-color: var(--fill-color);\n",
              "      border-right-color: var(--fill-color);\n",
              "    }\n",
              "    40% {\n",
              "      border-color: transparent;\n",
              "      border-right-color: var(--fill-color);\n",
              "      border-top-color: var(--fill-color);\n",
              "    }\n",
              "    60% {\n",
              "      border-color: transparent;\n",
              "      border-right-color: var(--fill-color);\n",
              "    }\n",
              "    80% {\n",
              "      border-color: transparent;\n",
              "      border-right-color: var(--fill-color);\n",
              "      border-bottom-color: var(--fill-color);\n",
              "    }\n",
              "    90% {\n",
              "      border-color: transparent;\n",
              "      border-bottom-color: var(--fill-color);\n",
              "    }\n",
              "  }\n",
              "</style>\n",
              "\n",
              "  <script>\n",
              "    async function quickchart(key) {\n",
              "      const quickchartButtonEl =\n",
              "        document.querySelector('#' + key + ' button');\n",
              "      quickchartButtonEl.disabled = true;  // To prevent multiple clicks.\n",
              "      quickchartButtonEl.classList.add('colab-df-spinner');\n",
              "      try {\n",
              "        const charts = await google.colab.kernel.invokeFunction(\n",
              "            'suggestCharts', [key], {});\n",
              "      } catch (error) {\n",
              "        console.error('Error during call to suggestCharts:', error);\n",
              "      }\n",
              "      quickchartButtonEl.classList.remove('colab-df-spinner');\n",
              "      quickchartButtonEl.classList.add('colab-df-quickchart-complete');\n",
              "    }\n",
              "    (() => {\n",
              "      let quickchartButtonEl =\n",
              "        document.querySelector('#df-597e46eb-65fd-4303-b272-4bef85c557a5 button');\n",
              "      quickchartButtonEl.style.display =\n",
              "        google.colab.kernel.accessAllowed ? 'block' : 'none';\n",
              "    })();\n",
              "  </script>\n",
              "</div>\n",
              "    </div>\n",
              "  </div>\n"
            ]
          },
          "metadata": {},
          "execution_count": 7
        }
      ]
    },
    {
      "cell_type": "code",
      "source": [
        "df.head()"
      ],
      "metadata": {
        "colab": {
          "base_uri": "https://localhost:8080/",
          "height": 267
        },
        "id": "DeTN0pcN2Av8",
        "outputId": "210b1564-6bb5-4c84-85a0-c7a981c037cf"
      },
      "execution_count": 8,
      "outputs": [
        {
          "output_type": "execute_result",
          "data": {
            "text/plain": [
              "      ABHV  CNPOR  DCAL  DPOR       GR  RHOB  RHOC      RILD         RILM  \\\n",
              "DEPT                                                                        \n",
              "0.0    NaN    NaN   NaN   NaN  22.9799   NaN   NaN  100000.0       1.0667   \n",
              "0.5    NaN    NaN   NaN   NaN  24.3601   NaN   NaN  100000.0       4.0241   \n",
              "1.0    NaN    NaN   NaN   NaN  26.1486   NaN   NaN  100000.0  100000.0000   \n",
              "1.5    NaN    NaN   NaN   NaN  28.5913   NaN   NaN  100000.0  100000.0000   \n",
              "2.0    NaN    NaN   NaN   NaN  31.5497   NaN   NaN  100000.0  100000.0000   \n",
              "\n",
              "           RLL3  ...  DPHL  PEF  NPHL  PXND  MINV  MNOR DPHS  NPHS  DPHD  NPHD  \n",
              "DEPT             ...                                                            \n",
              "0.0   2062.7507  ...   NaN  NaN   NaN   NaN   NaN   NaN  NaN   NaN   NaN   NaN  \n",
              "0.5   3293.4761  ...   NaN  NaN   NaN   NaN   NaN   NaN  NaN   NaN   NaN   NaN  \n",
              "1.0   3339.4282  ...   NaN  NaN   NaN   NaN   NaN   NaN  NaN   NaN   NaN   NaN  \n",
              "1.5   3339.6782  ...   NaN  NaN   NaN   NaN   NaN   NaN  NaN   NaN   NaN   NaN  \n",
              "2.0   3339.6782  ...   NaN  NaN   NaN   NaN   NaN   NaN  NaN   NaN   NaN   NaN  \n",
              "\n",
              "[5 rows x 57 columns]"
            ],
            "text/html": [
              "\n",
              "  <div id=\"df-09c34022-eff4-408d-a9c1-150053abf1d4\" class=\"colab-df-container\">\n",
              "    <div>\n",
              "<style scoped>\n",
              "    .dataframe tbody tr th:only-of-type {\n",
              "        vertical-align: middle;\n",
              "    }\n",
              "\n",
              "    .dataframe tbody tr th {\n",
              "        vertical-align: top;\n",
              "    }\n",
              "\n",
              "    .dataframe thead th {\n",
              "        text-align: right;\n",
              "    }\n",
              "</style>\n",
              "<table border=\"1\" class=\"dataframe\">\n",
              "  <thead>\n",
              "    <tr style=\"text-align: right;\">\n",
              "      <th></th>\n",
              "      <th>ABHV</th>\n",
              "      <th>CNPOR</th>\n",
              "      <th>DCAL</th>\n",
              "      <th>DPOR</th>\n",
              "      <th>GR</th>\n",
              "      <th>RHOB</th>\n",
              "      <th>RHOC</th>\n",
              "      <th>RILD</th>\n",
              "      <th>RILM</th>\n",
              "      <th>RLL3</th>\n",
              "      <th>...</th>\n",
              "      <th>DPHL</th>\n",
              "      <th>PEF</th>\n",
              "      <th>NPHL</th>\n",
              "      <th>PXND</th>\n",
              "      <th>MINV</th>\n",
              "      <th>MNOR</th>\n",
              "      <th>DPHS</th>\n",
              "      <th>NPHS</th>\n",
              "      <th>DPHD</th>\n",
              "      <th>NPHD</th>\n",
              "    </tr>\n",
              "    <tr>\n",
              "      <th>DEPT</th>\n",
              "      <th></th>\n",
              "      <th></th>\n",
              "      <th></th>\n",
              "      <th></th>\n",
              "      <th></th>\n",
              "      <th></th>\n",
              "      <th></th>\n",
              "      <th></th>\n",
              "      <th></th>\n",
              "      <th></th>\n",
              "      <th></th>\n",
              "      <th></th>\n",
              "      <th></th>\n",
              "      <th></th>\n",
              "      <th></th>\n",
              "      <th></th>\n",
              "      <th></th>\n",
              "      <th></th>\n",
              "      <th></th>\n",
              "      <th></th>\n",
              "      <th></th>\n",
              "    </tr>\n",
              "  </thead>\n",
              "  <tbody>\n",
              "    <tr>\n",
              "      <th>0.0</th>\n",
              "      <td>NaN</td>\n",
              "      <td>NaN</td>\n",
              "      <td>NaN</td>\n",
              "      <td>NaN</td>\n",
              "      <td>22.9799</td>\n",
              "      <td>NaN</td>\n",
              "      <td>NaN</td>\n",
              "      <td>100000.0</td>\n",
              "      <td>1.0667</td>\n",
              "      <td>2062.7507</td>\n",
              "      <td>...</td>\n",
              "      <td>NaN</td>\n",
              "      <td>NaN</td>\n",
              "      <td>NaN</td>\n",
              "      <td>NaN</td>\n",
              "      <td>NaN</td>\n",
              "      <td>NaN</td>\n",
              "      <td>NaN</td>\n",
              "      <td>NaN</td>\n",
              "      <td>NaN</td>\n",
              "      <td>NaN</td>\n",
              "    </tr>\n",
              "    <tr>\n",
              "      <th>0.5</th>\n",
              "      <td>NaN</td>\n",
              "      <td>NaN</td>\n",
              "      <td>NaN</td>\n",
              "      <td>NaN</td>\n",
              "      <td>24.3601</td>\n",
              "      <td>NaN</td>\n",
              "      <td>NaN</td>\n",
              "      <td>100000.0</td>\n",
              "      <td>4.0241</td>\n",
              "      <td>3293.4761</td>\n",
              "      <td>...</td>\n",
              "      <td>NaN</td>\n",
              "      <td>NaN</td>\n",
              "      <td>NaN</td>\n",
              "      <td>NaN</td>\n",
              "      <td>NaN</td>\n",
              "      <td>NaN</td>\n",
              "      <td>NaN</td>\n",
              "      <td>NaN</td>\n",
              "      <td>NaN</td>\n",
              "      <td>NaN</td>\n",
              "    </tr>\n",
              "    <tr>\n",
              "      <th>1.0</th>\n",
              "      <td>NaN</td>\n",
              "      <td>NaN</td>\n",
              "      <td>NaN</td>\n",
              "      <td>NaN</td>\n",
              "      <td>26.1486</td>\n",
              "      <td>NaN</td>\n",
              "      <td>NaN</td>\n",
              "      <td>100000.0</td>\n",
              "      <td>100000.0000</td>\n",
              "      <td>3339.4282</td>\n",
              "      <td>...</td>\n",
              "      <td>NaN</td>\n",
              "      <td>NaN</td>\n",
              "      <td>NaN</td>\n",
              "      <td>NaN</td>\n",
              "      <td>NaN</td>\n",
              "      <td>NaN</td>\n",
              "      <td>NaN</td>\n",
              "      <td>NaN</td>\n",
              "      <td>NaN</td>\n",
              "      <td>NaN</td>\n",
              "    </tr>\n",
              "    <tr>\n",
              "      <th>1.5</th>\n",
              "      <td>NaN</td>\n",
              "      <td>NaN</td>\n",
              "      <td>NaN</td>\n",
              "      <td>NaN</td>\n",
              "      <td>28.5913</td>\n",
              "      <td>NaN</td>\n",
              "      <td>NaN</td>\n",
              "      <td>100000.0</td>\n",
              "      <td>100000.0000</td>\n",
              "      <td>3339.6782</td>\n",
              "      <td>...</td>\n",
              "      <td>NaN</td>\n",
              "      <td>NaN</td>\n",
              "      <td>NaN</td>\n",
              "      <td>NaN</td>\n",
              "      <td>NaN</td>\n",
              "      <td>NaN</td>\n",
              "      <td>NaN</td>\n",
              "      <td>NaN</td>\n",
              "      <td>NaN</td>\n",
              "      <td>NaN</td>\n",
              "    </tr>\n",
              "    <tr>\n",
              "      <th>2.0</th>\n",
              "      <td>NaN</td>\n",
              "      <td>NaN</td>\n",
              "      <td>NaN</td>\n",
              "      <td>NaN</td>\n",
              "      <td>31.5497</td>\n",
              "      <td>NaN</td>\n",
              "      <td>NaN</td>\n",
              "      <td>100000.0</td>\n",
              "      <td>100000.0000</td>\n",
              "      <td>3339.6782</td>\n",
              "      <td>...</td>\n",
              "      <td>NaN</td>\n",
              "      <td>NaN</td>\n",
              "      <td>NaN</td>\n",
              "      <td>NaN</td>\n",
              "      <td>NaN</td>\n",
              "      <td>NaN</td>\n",
              "      <td>NaN</td>\n",
              "      <td>NaN</td>\n",
              "      <td>NaN</td>\n",
              "      <td>NaN</td>\n",
              "    </tr>\n",
              "  </tbody>\n",
              "</table>\n",
              "<p>5 rows × 57 columns</p>\n",
              "</div>\n",
              "    <div class=\"colab-df-buttons\">\n",
              "\n",
              "  <div class=\"colab-df-container\">\n",
              "    <button class=\"colab-df-convert\" onclick=\"convertToInteractive('df-09c34022-eff4-408d-a9c1-150053abf1d4')\"\n",
              "            title=\"Convert this dataframe to an interactive table.\"\n",
              "            style=\"display:none;\">\n",
              "\n",
              "  <svg xmlns=\"http://www.w3.org/2000/svg\" height=\"24px\" viewBox=\"0 -960 960 960\">\n",
              "    <path d=\"M120-120v-720h720v720H120Zm60-500h600v-160H180v160Zm220 220h160v-160H400v160Zm0 220h160v-160H400v160ZM180-400h160v-160H180v160Zm440 0h160v-160H620v160ZM180-180h160v-160H180v160Zm440 0h160v-160H620v160Z\"/>\n",
              "  </svg>\n",
              "    </button>\n",
              "\n",
              "  <style>\n",
              "    .colab-df-container {\n",
              "      display:flex;\n",
              "      gap: 12px;\n",
              "    }\n",
              "\n",
              "    .colab-df-convert {\n",
              "      background-color: #E8F0FE;\n",
              "      border: none;\n",
              "      border-radius: 50%;\n",
              "      cursor: pointer;\n",
              "      display: none;\n",
              "      fill: #1967D2;\n",
              "      height: 32px;\n",
              "      padding: 0 0 0 0;\n",
              "      width: 32px;\n",
              "    }\n",
              "\n",
              "    .colab-df-convert:hover {\n",
              "      background-color: #E2EBFA;\n",
              "      box-shadow: 0px 1px 2px rgba(60, 64, 67, 0.3), 0px 1px 3px 1px rgba(60, 64, 67, 0.15);\n",
              "      fill: #174EA6;\n",
              "    }\n",
              "\n",
              "    .colab-df-buttons div {\n",
              "      margin-bottom: 4px;\n",
              "    }\n",
              "\n",
              "    [theme=dark] .colab-df-convert {\n",
              "      background-color: #3B4455;\n",
              "      fill: #D2E3FC;\n",
              "    }\n",
              "\n",
              "    [theme=dark] .colab-df-convert:hover {\n",
              "      background-color: #434B5C;\n",
              "      box-shadow: 0px 1px 3px 1px rgba(0, 0, 0, 0.15);\n",
              "      filter: drop-shadow(0px 1px 2px rgba(0, 0, 0, 0.3));\n",
              "      fill: #FFFFFF;\n",
              "    }\n",
              "  </style>\n",
              "\n",
              "    <script>\n",
              "      const buttonEl =\n",
              "        document.querySelector('#df-09c34022-eff4-408d-a9c1-150053abf1d4 button.colab-df-convert');\n",
              "      buttonEl.style.display =\n",
              "        google.colab.kernel.accessAllowed ? 'block' : 'none';\n",
              "\n",
              "      async function convertToInteractive(key) {\n",
              "        const element = document.querySelector('#df-09c34022-eff4-408d-a9c1-150053abf1d4');\n",
              "        const dataTable =\n",
              "          await google.colab.kernel.invokeFunction('convertToInteractive',\n",
              "                                                    [key], {});\n",
              "        if (!dataTable) return;\n",
              "\n",
              "        const docLinkHtml = 'Like what you see? Visit the ' +\n",
              "          '<a target=\"_blank\" href=https://colab.research.google.com/notebooks/data_table.ipynb>data table notebook</a>'\n",
              "          + ' to learn more about interactive tables.';\n",
              "        element.innerHTML = '';\n",
              "        dataTable['output_type'] = 'display_data';\n",
              "        await google.colab.output.renderOutput(dataTable, element);\n",
              "        const docLink = document.createElement('div');\n",
              "        docLink.innerHTML = docLinkHtml;\n",
              "        element.appendChild(docLink);\n",
              "      }\n",
              "    </script>\n",
              "  </div>\n",
              "\n",
              "\n",
              "<div id=\"df-c0c99c17-8478-4f41-8bfa-b53180e00ab2\">\n",
              "  <button class=\"colab-df-quickchart\" onclick=\"quickchart('df-c0c99c17-8478-4f41-8bfa-b53180e00ab2')\"\n",
              "            title=\"Suggest charts.\"\n",
              "            style=\"display:none;\">\n",
              "\n",
              "<svg xmlns=\"http://www.w3.org/2000/svg\" height=\"24px\"viewBox=\"0 0 24 24\"\n",
              "     width=\"24px\">\n",
              "    <g>\n",
              "        <path d=\"M19 3H5c-1.1 0-2 .9-2 2v14c0 1.1.9 2 2 2h14c1.1 0 2-.9 2-2V5c0-1.1-.9-2-2-2zM9 17H7v-7h2v7zm4 0h-2V7h2v10zm4 0h-2v-4h2v4z\"/>\n",
              "    </g>\n",
              "</svg>\n",
              "  </button>\n",
              "\n",
              "<style>\n",
              "  .colab-df-quickchart {\n",
              "      --bg-color: #E8F0FE;\n",
              "      --fill-color: #1967D2;\n",
              "      --hover-bg-color: #E2EBFA;\n",
              "      --hover-fill-color: #174EA6;\n",
              "      --disabled-fill-color: #AAA;\n",
              "      --disabled-bg-color: #DDD;\n",
              "  }\n",
              "\n",
              "  [theme=dark] .colab-df-quickchart {\n",
              "      --bg-color: #3B4455;\n",
              "      --fill-color: #D2E3FC;\n",
              "      --hover-bg-color: #434B5C;\n",
              "      --hover-fill-color: #FFFFFF;\n",
              "      --disabled-bg-color: #3B4455;\n",
              "      --disabled-fill-color: #666;\n",
              "  }\n",
              "\n",
              "  .colab-df-quickchart {\n",
              "    background-color: var(--bg-color);\n",
              "    border: none;\n",
              "    border-radius: 50%;\n",
              "    cursor: pointer;\n",
              "    display: none;\n",
              "    fill: var(--fill-color);\n",
              "    height: 32px;\n",
              "    padding: 0;\n",
              "    width: 32px;\n",
              "  }\n",
              "\n",
              "  .colab-df-quickchart:hover {\n",
              "    background-color: var(--hover-bg-color);\n",
              "    box-shadow: 0 1px 2px rgba(60, 64, 67, 0.3), 0 1px 3px 1px rgba(60, 64, 67, 0.15);\n",
              "    fill: var(--button-hover-fill-color);\n",
              "  }\n",
              "\n",
              "  .colab-df-quickchart-complete:disabled,\n",
              "  .colab-df-quickchart-complete:disabled:hover {\n",
              "    background-color: var(--disabled-bg-color);\n",
              "    fill: var(--disabled-fill-color);\n",
              "    box-shadow: none;\n",
              "  }\n",
              "\n",
              "  .colab-df-spinner {\n",
              "    border: 2px solid var(--fill-color);\n",
              "    border-color: transparent;\n",
              "    border-bottom-color: var(--fill-color);\n",
              "    animation:\n",
              "      spin 1s steps(1) infinite;\n",
              "  }\n",
              "\n",
              "  @keyframes spin {\n",
              "    0% {\n",
              "      border-color: transparent;\n",
              "      border-bottom-color: var(--fill-color);\n",
              "      border-left-color: var(--fill-color);\n",
              "    }\n",
              "    20% {\n",
              "      border-color: transparent;\n",
              "      border-left-color: var(--fill-color);\n",
              "      border-top-color: var(--fill-color);\n",
              "    }\n",
              "    30% {\n",
              "      border-color: transparent;\n",
              "      border-left-color: var(--fill-color);\n",
              "      border-top-color: var(--fill-color);\n",
              "      border-right-color: var(--fill-color);\n",
              "    }\n",
              "    40% {\n",
              "      border-color: transparent;\n",
              "      border-right-color: var(--fill-color);\n",
              "      border-top-color: var(--fill-color);\n",
              "    }\n",
              "    60% {\n",
              "      border-color: transparent;\n",
              "      border-right-color: var(--fill-color);\n",
              "    }\n",
              "    80% {\n",
              "      border-color: transparent;\n",
              "      border-right-color: var(--fill-color);\n",
              "      border-bottom-color: var(--fill-color);\n",
              "    }\n",
              "    90% {\n",
              "      border-color: transparent;\n",
              "      border-bottom-color: var(--fill-color);\n",
              "    }\n",
              "  }\n",
              "</style>\n",
              "\n",
              "  <script>\n",
              "    async function quickchart(key) {\n",
              "      const quickchartButtonEl =\n",
              "        document.querySelector('#' + key + ' button');\n",
              "      quickchartButtonEl.disabled = true;  // To prevent multiple clicks.\n",
              "      quickchartButtonEl.classList.add('colab-df-spinner');\n",
              "      try {\n",
              "        const charts = await google.colab.kernel.invokeFunction(\n",
              "            'suggestCharts', [key], {});\n",
              "      } catch (error) {\n",
              "        console.error('Error during call to suggestCharts:', error);\n",
              "      }\n",
              "      quickchartButtonEl.classList.remove('colab-df-spinner');\n",
              "      quickchartButtonEl.classList.add('colab-df-quickchart-complete');\n",
              "    }\n",
              "    (() => {\n",
              "      let quickchartButtonEl =\n",
              "        document.querySelector('#df-c0c99c17-8478-4f41-8bfa-b53180e00ab2 button');\n",
              "      quickchartButtonEl.style.display =\n",
              "        google.colab.kernel.accessAllowed ? 'block' : 'none';\n",
              "    })();\n",
              "  </script>\n",
              "</div>\n",
              "    </div>\n",
              "  </div>\n"
            ]
          },
          "metadata": {},
          "execution_count": 8
        }
      ]
    },
    {
      "cell_type": "markdown",
      "source": [
        "We check number of columns that are there."
      ],
      "metadata": {
        "id": "amyCa0_y2l4r"
      }
    },
    {
      "cell_type": "code",
      "source": [
        "df.columns"
      ],
      "metadata": {
        "colab": {
          "base_uri": "https://localhost:8080/"
        },
        "id": "vjEXr4FD2IcW",
        "outputId": "ca95da6d-4b04-4072-cd7e-fa02a24005fe"
      },
      "execution_count": 9,
      "outputs": [
        {
          "output_type": "execute_result",
          "data": {
            "text/plain": [
              "Index(['ABHV', 'CNPOR', 'DCAL', 'DPOR', 'GR', 'RHOB', 'RHOC', 'RILD', 'RILM',\n",
              "       'RLL3', 'RXORT', 'SP', 'TBHV', 'MEL15', 'MEL20', 'MELCAL', 'WELL',\n",
              "       'MINMK', 'PE', 'AVTX', 'BVTX', 'DT', 'ITT', 'SPOR', 'CILD', 'CNDL',\n",
              "       'CNLS', 'CNSS', 'LSPD', 'LTEN', 'MCAL', 'MI', 'MN', 'DEVI', 'DTMP',\n",
              "       'NPOR', 'GK1', 'IA10_2', 'IA20_2', 'IA30_2', 'IA60_2', 'IA90_2',\n",
              "       'CIA90_2', 'RXO_2', 'RT_2', 'CALI', 'DRHO', 'DPHL', 'PEF', 'NPHL',\n",
              "       'PXND', 'MINV', 'MNOR', 'DPHS', 'NPHS', 'DPHD', 'NPHD'],\n",
              "      dtype='object')"
            ]
          },
          "metadata": {},
          "execution_count": 9
        }
      ]
    },
    {
      "cell_type": "markdown",
      "source": [
        "We run count to check number of missing values there. In addition, we compare that to shape of array."
      ],
      "metadata": {
        "id": "EkZCDHhh_DW6"
      }
    },
    {
      "cell_type": "code",
      "source": [
        "df.shape"
      ],
      "metadata": {
        "colab": {
          "base_uri": "https://localhost:8080/"
        },
        "id": "iKo9fYlH_TCO",
        "outputId": "5e51450c-f955-4710-c79c-9173090d7641"
      },
      "execution_count": 10,
      "outputs": [
        {
          "output_type": "execute_result",
          "data": {
            "text/plain": [
              "(693010, 57)"
            ]
          },
          "metadata": {},
          "execution_count": 10
        }
      ]
    },
    {
      "cell_type": "code",
      "source": [
        "df.count()"
      ],
      "metadata": {
        "colab": {
          "base_uri": "https://localhost:8080/"
        },
        "id": "Gdl49uxF-txF",
        "outputId": "38c3cf48-7431-4abb-8c01-a55d09271bd7"
      },
      "execution_count": 11,
      "outputs": [
        {
          "output_type": "execute_result",
          "data": {
            "text/plain": [
              "ABHV       137493\n",
              "CNPOR      382507\n",
              "DCAL       438320\n",
              "DPOR       430143\n",
              "GR         573870\n",
              "RHOB       388833\n",
              "RHOC       429901\n",
              "RILD       681552\n",
              "RILM       681713\n",
              "RLL3       680997\n",
              "RXORT      301043\n",
              "SP         690601\n",
              "TBHV        84687\n",
              "MEL15      114231\n",
              "MEL20      114225\n",
              "MELCAL     151083\n",
              "WELL       693010\n",
              "MINMK       86552\n",
              "PE         112169\n",
              "AVTX       338593\n",
              "BVTX       338593\n",
              "DT         262227\n",
              "ITT        262237\n",
              "SPOR       262227\n",
              "CILD       221297\n",
              "CNDL       219252\n",
              "CNLS       219252\n",
              "CNSS       219252\n",
              "LSPD       221296\n",
              "LTEN       213403\n",
              "MCAL       215853\n",
              "MI         221926\n",
              "MN         221926\n",
              "DEVI        71467\n",
              "DTMP        65039\n",
              "NPOR        45242\n",
              "GK1        111916\n",
              "IA10_2       9391\n",
              "IA20_2       9391\n",
              "IA30_2       9391\n",
              "IA60_2       9391\n",
              "IA90_2       9391\n",
              "CIA90_2      9391\n",
              "RXO_2        9391\n",
              "RT_2         9391\n",
              "CALI         4484\n",
              "DRHO         4478\n",
              "DPHL         4478\n",
              "PEF          4473\n",
              "NPHL         4458\n",
              "PXND         4458\n",
              "MINV         4438\n",
              "MNOR         4438\n",
              "DPHS         4478\n",
              "NPHS         4458\n",
              "DPHD         4478\n",
              "NPHD         4458\n",
              "dtype: int64"
            ]
          },
          "metadata": {},
          "execution_count": 11
        }
      ]
    },
    {
      "cell_type": "code",
      "source": [
        "(df.count()/len(df))>.6"
      ],
      "metadata": {
        "colab": {
          "base_uri": "https://localhost:8080/"
        },
        "id": "diszEx9x_Cog",
        "outputId": "0c911d71-21f9-4ebf-b138-78248d99bc04"
      },
      "execution_count": 12,
      "outputs": [
        {
          "output_type": "execute_result",
          "data": {
            "text/plain": [
              "ABHV       False\n",
              "CNPOR      False\n",
              "DCAL        True\n",
              "DPOR        True\n",
              "GR          True\n",
              "RHOB       False\n",
              "RHOC        True\n",
              "RILD        True\n",
              "RILM        True\n",
              "RLL3        True\n",
              "RXORT      False\n",
              "SP          True\n",
              "TBHV       False\n",
              "MEL15      False\n",
              "MEL20      False\n",
              "MELCAL     False\n",
              "WELL        True\n",
              "MINMK      False\n",
              "PE         False\n",
              "AVTX       False\n",
              "BVTX       False\n",
              "DT         False\n",
              "ITT        False\n",
              "SPOR       False\n",
              "CILD       False\n",
              "CNDL       False\n",
              "CNLS       False\n",
              "CNSS       False\n",
              "LSPD       False\n",
              "LTEN       False\n",
              "MCAL       False\n",
              "MI         False\n",
              "MN         False\n",
              "DEVI       False\n",
              "DTMP       False\n",
              "NPOR       False\n",
              "GK1        False\n",
              "IA10_2     False\n",
              "IA20_2     False\n",
              "IA30_2     False\n",
              "IA60_2     False\n",
              "IA90_2     False\n",
              "CIA90_2    False\n",
              "RXO_2      False\n",
              "RT_2       False\n",
              "CALI       False\n",
              "DRHO       False\n",
              "DPHL       False\n",
              "PEF        False\n",
              "NPHL       False\n",
              "PXND       False\n",
              "MINV       False\n",
              "MNOR       False\n",
              "DPHS       False\n",
              "NPHS       False\n",
              "DPHD       False\n",
              "NPHD       False\n",
              "dtype: bool"
            ]
          },
          "metadata": {},
          "execution_count": 12
        }
      ]
    },
    {
      "cell_type": "markdown",
      "source": [
        "We select columns that are mostly filled."
      ],
      "metadata": {
        "id": "qlfklp0JATjP"
      }
    },
    {
      "cell_type": "code",
      "source": [
        "cols_to_delete = df.columns[df.isnull().sum()/len(df) > .60]"
      ],
      "metadata": {
        "id": "ZgVP5M6-ASEO"
      },
      "execution_count": 9,
      "outputs": []
    },
    {
      "cell_type": "code",
      "source": [
        "df.drop(cols_to_delete, axis = 1, inplace = True)"
      ],
      "metadata": {
        "id": "T1yKt7h1EI1U"
      },
      "execution_count": 10,
      "outputs": []
    },
    {
      "cell_type": "code",
      "source": [
        "corr_matrix = df.corr()\n",
        "sns.heatmap(corr_matrix, cmap='coolwarm')\n",
        "plt.show()"
      ],
      "metadata": {
        "colab": {
          "base_uri": "https://localhost:8080/",
          "height": 526
        },
        "id": "xFFCbz4KEemE",
        "outputId": "fa2a795a-b825-4314-c2f7-48fbcfe667b5"
      },
      "execution_count": 11,
      "outputs": [
        {
          "output_type": "stream",
          "name": "stderr",
          "text": [
            "<ipython-input-11-748c49e9e4c2>:4: FutureWarning: The default value of numeric_only in DataFrame.corr is deprecated. In a future version, it will default to False. Select only valid columns or specify the value of numeric_only to silence this warning.\n",
            "  corr_matrix = df.corr()\n"
          ]
        },
        {
          "output_type": "display_data",
          "data": {
            "text/plain": [
              "<Figure size 640x480 with 2 Axes>"
            ],
            "image/png": "[encoded data removed]"
          },
          "metadata": {}
        }
      ]
    },
    {
      "cell_type": "markdown",
      "source": [
        "# Missing Values"
      ],
      "metadata": {
        "id": "YGQs1qggiTgN"
      }
    },
    {
      "cell_type": "markdown",
      "source": [
        "Now, we need to take care of missiing values. One way is to interpolate values to nearest value."
      ],
      "metadata": {
        "id": "5dn1i_u6Egr8"
      }
    },
    {
      "cell_type": "code",
      "source": [
        "lst = df.columns.tolist()\n",
        "lst.remove('WELL')\n",
        "lst.remove('GR')"
      ],
      "metadata": {
        "id": "9wWYBiwfh-yl"
      },
      "execution_count": 12,
      "outputs": []
    },
    {
      "cell_type": "code",
      "source": [
        "for c in lst:\n",
        "  df[c]=df.groupby('WELL',group_keys=False)[c].apply(lambda group: group.interpolate())"
      ],
      "metadata": {
        "id": "OEVPpd4dEmvV"
      },
      "execution_count": 17,
      "outputs": []
    },
    {
      "cell_type": "code",
      "source": [
        "df.count()"
      ],
      "metadata": {
        "colab": {
          "base_uri": "https://localhost:8080/"
        },
        "id": "eJ4CGxtwFPVk",
        "outputId": "920c75cd-ce91-488a-dd6e-869d5defa434"
      },
      "execution_count": 18,
      "outputs": [
        {
          "output_type": "execute_result",
          "data": {
            "text/plain": [
              "CNPOR    387744\n",
              "DCAL     441593\n",
              "DPOR     433964\n",
              "GR       573870\n",
              "RHOB     392108\n",
              "RHOC     433918\n",
              "RILD     682086\n",
              "RILM     681733\n",
              "RLL3     681976\n",
              "RXORT    301230\n",
              "SP       691801\n",
              "WELL     693010\n",
              "AVTX     338691\n",
              "BVTX     338691\n",
              "dtype: int64"
            ]
          },
          "metadata": {},
          "execution_count": 18
        }
      ]
    },
    {
      "cell_type": "markdown",
      "source": [
        "Another way is fo fillna for each well with the median/mode/mean value in each well."
      ],
      "metadata": {
        "id": "TwteXruNGQ1H"
      }
    },
    {
      "cell_type": "code",
      "source": [
        "for c in lst:\n",
        "  df[c].fillna(df.groupby('WELL')[c].transform('median'),inplace=True)"
      ],
      "metadata": {
        "id": "-JJOSEO7Hv2k"
      },
      "execution_count": 19,
      "outputs": []
    },
    {
      "cell_type": "markdown",
      "source": [
        "Anohter way is to use knn-imputer which predicts missing values using KNN algorithm. However, it is much slower than other methods. Therefore, we will train on a sample of 1000 and propogate it into whole population."
      ],
      "metadata": {
        "id": "3DAsMaZVht0v"
      }
    },
    {
      "cell_type": "code",
      "source": [
        "df.dropna(subset='GR',inplace=True)"
      ],
      "metadata": {
        "id": "WNIsO9tik9Ih"
      },
      "execution_count": 13,
      "outputs": []
    },
    {
      "cell_type": "code",
      "source": [
        "df_s = df.sample(1000)"
      ],
      "metadata": {
        "id": "H9K6zLIsk_Lp"
      },
      "execution_count": 17,
      "outputs": []
    },
    {
      "cell_type": "code",
      "source": [
        "imputer = KNNImputer()\n",
        "df_s[lst] = imputer.fit_transform(df_s[lst])"
      ],
      "metadata": {
        "id": "qd06x2kRhsbr"
      },
      "execution_count": 18,
      "outputs": []
    },
    {
      "cell_type": "code",
      "source": [
        "df[lst] = imputer.transform(df[lst])"
      ],
      "metadata": {
        "id": "pdEbgqO1uMYM"
      },
      "execution_count": 20,
      "outputs": []
    },
    {
      "cell_type": "code",
      "source": [
        "df.count()"
      ],
      "metadata": {
        "colab": {
          "base_uri": "https://localhost:8080/"
        },
        "id": "fNj_dw7kHIjJ",
        "outputId": "73aede9e-5285-471e-a011-55269971e97a"
      },
      "execution_count": 21,
      "outputs": [
        {
          "output_type": "execute_result",
          "data": {
            "text/plain": [
              "CNPOR    573870\n",
              "DCAL     573870\n",
              "DPOR     573870\n",
              "GR       573870\n",
              "RHOB     573870\n",
              "RHOC     573870\n",
              "RILD     573870\n",
              "RILM     573870\n",
              "RLL3     573870\n",
              "RXORT    573870\n",
              "SP       573870\n",
              "WELL     573870\n",
              "AVTX     573870\n",
              "BVTX     573870\n",
              "dtype: int64"
            ]
          },
          "metadata": {},
          "execution_count": 21
        }
      ]
    },
    {
      "cell_type": "markdown",
      "source": [
        "That worked for some values. What reamains is to fill with global median for each value."
      ],
      "metadata": {
        "id": "WyHLCHSKHQwR"
      }
    },
    {
      "cell_type": "code",
      "source": [
        "for c in lst:\n",
        "  df[c].fillna(df[c].median(),inplace=True)"
      ],
      "metadata": {
        "id": "IpWG5e1eHPtV"
      },
      "execution_count": 20,
      "outputs": []
    },
    {
      "cell_type": "code",
      "source": [
        "df.count()"
      ],
      "metadata": {
        "colab": {
          "base_uri": "https://localhost:8080/"
        },
        "id": "b7dyEYeZHcpw",
        "outputId": "45b621a0-0204-4d40-f50e-00717e1539fb"
      },
      "execution_count": 21,
      "outputs": [
        {
          "output_type": "execute_result",
          "data": {
            "text/plain": [
              "CNPOR    693010\n",
              "DCAL     693010\n",
              "DPOR     693010\n",
              "GR       573870\n",
              "RHOB     693010\n",
              "RHOC     693010\n",
              "RILD     693010\n",
              "RILM     693010\n",
              "RLL3     693010\n",
              "RXORT    693010\n",
              "SP       693010\n",
              "WELL     693010\n",
              "AVTX     693010\n",
              "BVTX     693010\n",
              "dtype: int64"
            ]
          },
          "metadata": {},
          "execution_count": 21
        }
      ]
    },
    {
      "cell_type": "markdown",
      "source": [
        "Our target variable is supposed to be GR. It is best not to fill it and instead drop any values that are empty in that column."
      ],
      "metadata": {
        "id": "9VlVIV5tWJOM"
      }
    },
    {
      "cell_type": "code",
      "source": [
        "df.dropna(subset='GR',inplace=True)"
      ],
      "metadata": {
        "id": "x1bmTQFFWH2X"
      },
      "execution_count": 22,
      "outputs": []
    },
    {
      "cell_type": "markdown",
      "source": [
        "# Scaling"
      ],
      "metadata": {
        "id": "hjFuBreukBsI"
      }
    },
    {
      "cell_type": "markdown",
      "source": [
        "Now, we want to use scaling on these values. There is standard scaler and minmax scaler, and robust scaler. There are also other types not covered in this workshop. Standard scaler is easy to implement which also applies to minmax. The difference is that standard scaler will turn mean to 0 with 1 unit variance which in some cases we would like to avoid so we use minmax scaler. However, both assume dataset is normally distributed. However, robust scaler avoids that and capable of transforming data that is not normally distributed. MaxABs sclaer shift data using absolute value of each feature to [-1,1]."
      ],
      "metadata": {
        "id": "JxS-5KPhHjNT"
      }
    },
    {
      "cell_type": "code",
      "source": [
        "std = StandardScaler()"
      ],
      "metadata": {
        "id": "380r348dHyLd"
      },
      "execution_count": 25,
      "outputs": []
    },
    {
      "cell_type": "code",
      "source": [
        "minmax = MinMaxScaler()"
      ],
      "metadata": {
        "id": "W9QFFWh7GKbk"
      },
      "execution_count": 26,
      "outputs": []
    },
    {
      "cell_type": "code",
      "source": [
        "rc = RobustScaler()"
      ],
      "metadata": {
        "id": "gJiHyYHIGOHM"
      },
      "execution_count": 24,
      "outputs": []
    },
    {
      "cell_type": "code",
      "source": [
        "maxabs = MaxAbsScaler()"
      ],
      "metadata": {
        "id": "w5o-QMetJIB6"
      },
      "execution_count": 43,
      "outputs": []
    },
    {
      "cell_type": "code",
      "source": [
        "df.reset_index(inplace=True)"
      ],
      "metadata": {
        "id": "7UslTzD-WfyT"
      },
      "execution_count": 28,
      "outputs": []
    },
    {
      "cell_type": "code",
      "source": [
        "lst.append('DEPT')"
      ],
      "metadata": {
        "id": "HgF4JLD4Wiwk"
      },
      "execution_count": 29,
      "outputs": []
    },
    {
      "cell_type": "code",
      "source": [
        "std_features = std.fit_transform(df[lst])"
      ],
      "metadata": {
        "id": "FkFQKnQyH3YH"
      },
      "execution_count": 31,
      "outputs": []
    },
    {
      "cell_type": "code",
      "source": [
        "df1 = pd.DataFrame(std_features,columns=lst)\n",
        "df1_s = df1.sample(100)\n",
        "df_s = df.sample(100)\n",
        "ax = df_s.plot.scatter(x='DEPT', y='CNPOR',color=['red'], marker = '*',s=80, label='BREFORE SCALING');\n",
        "df1_s.plot.scatter(x='DEPT', y='CNPOR', color=['green'],marker = 'o',s=60,label='AFTER SCALING', ax = ax);\n",
        "plt.axhline(0, color='red',alpha=0.2)\n",
        "plt.axvline(0, color='red',alpha=0.2);"
      ],
      "metadata": {
        "colab": {
          "base_uri": "https://localhost:8080/",
          "height": 449
        },
        "id": "6ueDSEH5IxD8",
        "outputId": "43f4c874-e840-4866-8c2c-762ad553bc4d"
      },
      "execution_count": 49,
      "outputs": [
        {
          "output_type": "display_data",
          "data": {
            "text/plain": [
              "<Figure size 640x480 with 1 Axes>"
            ],
            "image/png": "[encoded data removed]"
          },
          "metadata": {}
        }
      ]
    },
    {
      "cell_type": "code",
      "source": [
        "minmax_features = minmax.fit_transform(df[lst])"
      ],
      "metadata": {
        "id": "rRu5xLSSGZC1"
      },
      "execution_count": 32,
      "outputs": []
    },
    {
      "cell_type": "code",
      "source": [
        "lst"
      ],
      "metadata": {
        "colab": {
          "base_uri": "https://localhost:8080/"
        },
        "id": "VMkWPFjiHrde",
        "outputId": "2447f95c-9d6a-4721-a5ea-3776ee2c204d"
      },
      "execution_count": 34,
      "outputs": [
        {
          "output_type": "execute_result",
          "data": {
            "text/plain": [
              "['CNPOR',\n",
              " 'DCAL',\n",
              " 'DPOR',\n",
              " 'RHOB',\n",
              " 'RHOC',\n",
              " 'RILD',\n",
              " 'RILM',\n",
              " 'RLL3',\n",
              " 'RXORT',\n",
              " 'SP',\n",
              " 'AVTX',\n",
              " 'BVTX',\n",
              " 'DEPT']"
            ]
          },
          "metadata": {},
          "execution_count": 34
        }
      ]
    },
    {
      "cell_type": "code",
      "source": [
        "df1 = pd.DataFrame(minmax_features,columns=lst)\n",
        "df1_s = df1.sample(100)\n",
        "df_s = df.sample(100)\n",
        "ax = df_s.plot.scatter(x='DEPT', y='CNPOR',color=['red'], marker = '*',s=80, label='BREFORE SCALING');\n",
        "df1_s.plot.scatter(x='DEPT', y='CNPOR', color=['green'],marker = 'o',s=60,label='AFTER SCALING', ax = ax);\n",
        "plt.axhline(0, color='red',alpha=0.2)\n",
        "plt.axvline(0, color='red',alpha=0.2);"
      ],
      "metadata": {
        "colab": {
          "base_uri": "https://localhost:8080/",
          "height": 449
        },
        "id": "HEOdILBYHRqc",
        "outputId": "f4f30dd4-a4b6-4f4f-8aef-bcc7bae414b7"
      },
      "execution_count": 46,
      "outputs": [
        {
          "output_type": "display_data",
          "data": {
            "text/plain": [
              "<Figure size 640x480 with 1 Axes>"
            ],
            "image/png": "[encoded data removed]"
          },
          "metadata": {}
        }
      ]
    },
    {
      "cell_type": "code",
      "source": [
        "rc_features = rc.fit_transform(df[lst])"
      ],
      "metadata": {
        "id": "22B5mHuVGd_X"
      },
      "execution_count": 25,
      "outputs": []
    },
    {
      "cell_type": "code",
      "source": [
        "df1 = pd.DataFrame(rc_features,columns=lst)\n",
        "df1_s = df1.sample(100)\n",
        "df_s = df.sample(100)\n",
        "ax = df_s.plot.scatter(x='DEPT', y='CNPOR',color=['red'], marker = '*',s=80, label='BREFORE SCALING');\n",
        "df1_s.plot.scatter(x='DEPT', y='CNPOR', color=['green'],marker = 'o',s=60,label='AFTER SCALING', ax = ax);\n",
        "plt.axhline(0, color='red',alpha=0.2)\n",
        "plt.axvline(0, color='red',alpha=0.2);"
      ],
      "metadata": {
        "colab": {
          "base_uri": "https://localhost:8080/",
          "height": 454
        },
        "id": "OSsZRrrRI5ek",
        "outputId": "a5be1d90-999c-4907-eb8b-2279b2156c3e"
      },
      "execution_count": 47,
      "outputs": [
        {
          "output_type": "display_data",
          "data": {
            "text/plain": [
              "<Figure size 640x480 with 1 Axes>"
            ],
            "image/png": "[encoded data removed]"
          },
          "metadata": {}
        }
      ]
    },
    {
      "cell_type": "code",
      "source": [
        "maxabs_features = maxabs.fit_transform(df[lst])"
      ],
      "metadata": {
        "id": "qvKCxZAfJONe"
      },
      "execution_count": 44,
      "outputs": []
    },
    {
      "cell_type": "code",
      "source": [
        "df1 = pd.DataFrame(maxabs_features,columns=lst)\n",
        "df1_s = df1.sample(100)\n",
        "df_s = df.sample(100)\n",
        "ax = df_s.plot.scatter(x='DEPT', y='CNPOR',color=['red'], marker = '*',s=80, label='BREFORE SCALING');\n",
        "df1_s.plot.scatter(x='DEPT', y='CNPOR', color=['green'],marker = 'o',s=60,label='AFTER SCALING', ax = ax);\n",
        "plt.axhline(0, color='red',alpha=0.2)\n",
        "plt.axvline(0, color='red',alpha=0.2);"
      ],
      "metadata": {
        "colab": {
          "base_uri": "https://localhost:8080/",
          "height": 449
        },
        "id": "tArK-vUKJVIV",
        "outputId": "f23d770f-f957-4ce3-d703-69a8ad917723"
      },
      "execution_count": 48,
      "outputs": [
        {
          "output_type": "display_data",
          "data": {
            "text/plain": [
              "<Figure size 640x480 with 1 Axes>"
            ],
            "image/png": "[encoded data removed]"
          },
          "metadata": {}
        }
      ]
    },
    {
      "cell_type": "code",
      "source": [
        "data = pd.DataFrame(rc_features,index=df.index,columns=lst)"
      ],
      "metadata": {
        "id": "zoharMPZIwPI"
      },
      "execution_count": 27,
      "outputs": []
    },
    {
      "cell_type": "code",
      "source": [
        "data['GR'] = df['GR']"
      ],
      "metadata": {
        "id": "6SPDY6kGWb0H"
      },
      "execution_count": 28,
      "outputs": []
    },
    {
      "cell_type": "markdown",
      "source": [
        "# ML"
      ],
      "metadata": {
        "id": "q_mqws-1kG7q"
      }
    },
    {
      "cell_type": "markdown",
      "source": [
        "We choose a label, let's say GR. We drop it from X and use it in y."
      ],
      "metadata": {
        "id": "CGusozTHIVc4"
      }
    },
    {
      "cell_type": "code",
      "source": [
        "my_train_lst = data.columns.tolist()"
      ],
      "metadata": {
        "id": "O9OmwjXYXeG6"
      },
      "execution_count": 29,
      "outputs": []
    },
    {
      "cell_type": "code",
      "source": [
        "X = data.drop('GR',axis=1)\n",
        "y = data['GR']"
      ],
      "metadata": {
        "id": "WzL6AnRbISbz"
      },
      "execution_count": 53,
      "outputs": []
    },
    {
      "cell_type": "markdown",
      "source": [
        "We train test split data. Training set means the set we will look at all the time during training while testing set is the sample of data I will never look into. This is to check, does the algorithm work well with data never seen before."
      ],
      "metadata": {
        "id": "QQoIcSADI6Pv"
      }
    },
    {
      "cell_type": "code",
      "source": [
        "X_train, X_test, y_train, y_test = train_test_split(X,y,test_size=.3)"
      ],
      "metadata": {
        "id": "SfYJohjAJHNS"
      },
      "execution_count": null,
      "outputs": []
    },
    {
      "cell_type": "markdown",
      "source": [
        "Since GR is continues, we need to select a regression model. Let's try linear regression."
      ],
      "metadata": {
        "id": "DiX9s6bJJUAb"
      }
    },
    {
      "cell_type": "code",
      "source": [
        "lr = LinearRegression()\n",
        "lr.fit(X_train,y_train)\n",
        "lr.score(X_test,y_test)"
      ],
      "metadata": {
        "colab": {
          "base_uri": "https://localhost:8080/"
        },
        "id": "eqQgF2aXJSxb",
        "outputId": "0dfc5e26-202d-452e-fbb0-1094953ace32"
      },
      "execution_count": null,
      "outputs": [
        {
          "output_type": "execute_result",
          "data": {
            "text/plain": [
              "0.10937336123796237"
            ]
          },
          "metadata": {},
          "execution_count": 102
        }
      ]
    },
    {
      "cell_type": "markdown",
      "source": [
        "That was awful. It is usual for decision tree to work well with well logs."
      ],
      "metadata": {
        "id": "pd5DRbfuJ9Wf"
      }
    },
    {
      "cell_type": "code",
      "source": [
        "dt = DecisionTreeRegressor()\n",
        "dt.fit(X_train,y_train)\n",
        "dt.score(X_test,y_test)"
      ],
      "metadata": {
        "colab": {
          "base_uri": "https://localhost:8080/"
        },
        "id": "KV0F4ptyJqGM",
        "outputId": "caf9605f-393a-46b4-d919-582b37e9d5aa"
      },
      "execution_count": null,
      "outputs": [
        {
          "output_type": "execute_result",
          "data": {
            "text/plain": [
              "0.8388938464922862"
            ]
          },
          "metadata": {},
          "execution_count": 103
        }
      ]
    },
    {
      "cell_type": "markdown",
      "source": [
        "Another good algorithm is xgboost but it requires hyperparemeter tuning."
      ],
      "metadata": {
        "id": "ICNlU6A-KHP6"
      }
    },
    {
      "cell_type": "code",
      "source": [
        "reg = xgb.XGBRegressor()\n",
        "reg.fit(X_train,y_train)\n",
        "reg.score(X_test,y_test)"
      ],
      "metadata": {
        "colab": {
          "base_uri": "https://localhost:8080/"
        },
        "id": "W2ffenkiJ7qa",
        "outputId": "bc1e54fa-9c79-496e-d7a6-20200c7ac671"
      },
      "execution_count": null,
      "outputs": [
        {
          "output_type": "execute_result",
          "data": {
            "text/plain": [
              "0.6284939321599494"
            ]
          },
          "metadata": {},
          "execution_count": 66
        }
      ]
    },
    {
      "cell_type": "markdown",
      "source": [
        "Now, we perfrom randomized search tree for sake of time. There is also grid search. The difference between two is grid search searches over all hyperparmeters. It is time consuming but will reach optimal results compared to randomized search. Randomized search is much faster which selects random hyperparmters. I advise to use randomized search first then grid search on few hyperparematers."
      ],
      "metadata": {
        "id": "39tb0j3kLKEN"
      }
    },
    {
      "cell_type": "code",
      "source": [
        "params = {'learning_rate' : [0.05,0.10,0.15,0.20,0.25,0.30],\n",
        " 'max_depth' : [ 3, 4, 5, 6, 8, 10, 12, 15],\n",
        " 'min_child_weight' : [ 1, 3, 5, 7 ],\n",
        " 'gamma': [ 0.0, 0.1, 0.2 , 0.3, 0.4 ],\n",
        " 'colsample_bytree' : [ 0.3, 0.4, 0.5 , 0.7 ]\n",
        "}"
      ],
      "metadata": {
        "id": "YrffGLbZLJb3"
      },
      "execution_count": null,
      "outputs": []
    },
    {
      "cell_type": "markdown",
      "source": [
        "I run randomized search with cv=5. This means how many random samplings of train valid split I will do with the compute in a single iteration. Scoring here I used r2 which is a measure of accuracy. I could use MSE, RMSE, MAE on other things."
      ],
      "metadata": {
        "id": "vReiZWL-i_n1"
      }
    },
    {
      "cell_type": "code",
      "source": [
        "rs_model=RandomizedSearchCV(reg,param_distributions=params,n_iter=5,scoring='r2',n_jobs=-1,cv=5,verbose=3)\n",
        "rs_model.fit(X_train,y_train)"
      ],
      "metadata": {
        "colab": {
          "base_uri": "https://localhost:8080/",
          "height": 136
        },
        "id": "5ESto708L9ic",
        "outputId": "7bc23a25-3ff6-42e0-f69b-4bae0bd02832"
      },
      "execution_count": null,
      "outputs": [
        {
          "metadata": {
            "tags": null
          },
          "name": "stdout",
          "output_type": "stream",
          "text": [
            "Fitting 5 folds for each of 5 candidates, totalling 25 fits\n"
          ]
        },
        {
          "output_type": "execute_result",
          "data": {
            "text/plain": [
              "RandomizedSearchCV(cv=5,\n",
              "                   estimator=XGBRegressor(base_score=None, booster=None,\n",
              "                                          callbacks=None,\n",
              "                                          colsample_bylevel=None,\n",
              "                                          colsample_bynode=None,\n",
              "                                          colsample_bytree=None,\n",
              "                                          early_stopping_rounds=None,\n",
              "                                          enable_categorical=False,\n",
              "                                          eval_metric=None, feature_types=None,\n",
              "                                          gamma=None, gpu_id=None,\n",
              "                                          grow_policy=None,\n",
              "                                          importance_type=None,\n",
              "                                          interaction_constraints=None,\n",
              "                                          learning_rate=...\n",
              "                                          monotone_constraints=None,\n",
              "                                          n_estimators=100, n_jobs=None,\n",
              "                                          num_parallel_tree=None,\n",
              "                                          predictor=None, random_state=None, ...),\n",
              "                   n_iter=5, n_jobs=-1,\n",
              "                   param_distributions={'colsample_bytree': [0.3, 0.4, 0.5,\n",
              "                                                             0.7],\n",
              "                                        'gamma': [0.0, 0.1, 0.2, 0.3, 0.4],\n",
              "                                        'learning_rate': [0.05, 0.1, 0.15, 0.2,\n",
              "                                                          0.25, 0.3],\n",
              "                                        'max_depth': [3, 4, 5, 6, 8, 10, 12,\n",
              "                                                      15],\n",
              "                                        'min_child_weight': [1, 3, 5, 7]},\n",
              "                   scoring='r2', verbose=3)"
            ],
            "text/html": [
              "<style>#sk-container-id-1 {color: black;background-color: white;}#sk-container-id-1 pre{padding: 0;}#sk-container-id-1 div.sk-toggleable {background-color: white;}#sk-container-id-1 label.sk-toggleable__label {cursor: pointer;display: block;width: 100%;margin-bottom: 0;padding: 0.3em;box-sizing: border-box;text-align: center;}#sk-container-id-1 label.sk-toggleable__label-arrow:before {content: \"▸\";float: left;margin-right: 0.25em;color: #696969;}#sk-container-id-1 label.sk-toggleable__label-arrow:hover:before {color: black;}#sk-container-id-1 div.sk-estimator:hover label.sk-toggleable__label-arrow:before {color: black;}#sk-container-id-1 div.sk-toggleable__content {max-height: 0;max-width: 0;overflow: hidden;text-align: left;background-color: #f0f8ff;}#sk-container-id-1 div.sk-toggleable__content pre {margin: 0.2em;color: black;border-radius: 0.25em;background-color: #f0f8ff;}#sk-container-id-1 input.sk-toggleable__control:checked~div.sk-toggleable__content {max-height: 200px;max-width: 100%;overflow: auto;}#sk-container-id-1 input.sk-toggleable__control:checked~label.sk-toggleable__label-arrow:before {content: \"▾\";}#sk-container-id-1 div.sk-estimator input.sk-toggleable__control:checked~label.sk-toggleable__label {background-color: #d4ebff;}#sk-container-id-1 div.sk-label input.sk-toggleable__control:checked~label.sk-toggleable__label {background-color: #d4ebff;}#sk-container-id-1 input.sk-hidden--visually {border: 0;clip: rect(1px 1px 1px 1px);clip: rect(1px, 1px, 1px, 1px);height: 1px;margin: -1px;overflow: hidden;padding: 0;position: absolute;width: 1px;}#sk-container-id-1 div.sk-estimator {font-family: monospace;background-color: #f0f8ff;border: 1px dotted black;border-radius: 0.25em;box-sizing: border-box;margin-bottom: 0.5em;}#sk-container-id-1 div.sk-estimator:hover {background-color: #d4ebff;}#sk-container-id-1 div.sk-parallel-item::after {content: \"\";width: 100%;border-bottom: 1px solid gray;flex-grow: 1;}#sk-container-id-1 div.sk-label:hover label.sk-toggleable__label {background-color: #d4ebff;}#sk-container-id-1 div.sk-serial::before {content: \"\";position: absolute;border-left: 1px solid gray;box-sizing: border-box;top: 0;bottom: 0;left: 50%;z-index: 0;}#sk-container-id-1 div.sk-serial {display: flex;flex-direction: column;align-items: center;background-color: white;padding-right: 0.2em;padding-left: 0.2em;position: relative;}#sk-container-id-1 div.sk-item {position: relative;z-index: 1;}#sk-container-id-1 div.sk-parallel {display: flex;align-items: stretch;justify-content: center;background-color: white;position: relative;}#sk-container-id-1 div.sk-item::before, #sk-container-id-1 div.sk-parallel-item::before {content: \"\";position: absolute;border-left: 1px solid gray;box-sizing: border-box;top: 0;bottom: 0;left: 50%;z-index: -1;}#sk-container-id-1 div.sk-parallel-item {display: flex;flex-direction: column;z-index: 1;position: relative;background-color: white;}#sk-container-id-1 div.sk-parallel-item:first-child::after {align-self: flex-end;width: 50%;}#sk-container-id-1 div.sk-parallel-item:last-child::after {align-self: flex-start;width: 50%;}#sk-container-id-1 div.sk-parallel-item:only-child::after {width: 0;}#sk-container-id-1 div.sk-dashed-wrapped {border: 1px dashed gray;margin: 0 0.4em 0.5em 0.4em;box-sizing: border-box;padding-bottom: 0.4em;background-color: white;}#sk-container-id-1 div.sk-label label {font-family: monospace;font-weight: bold;display: inline-block;line-height: 1.2em;}#sk-container-id-1 div.sk-label-container {text-align: center;}#sk-container-id-1 div.sk-container {/* jupyter's `normalize.less` sets `[hidden] { display: none; }` but bootstrap.min.css set `[hidden] { display: none !important; }` so we also need the `!important` here to be able to override the default hidden behavior on the sphinx rendered scikit-learn.org. See: https://github.com/scikit-learn/scikit-learn/issues/21755 */display: inline-block !important;position: relative;}#sk-container-id-1 div.sk-text-repr-fallback {display: none;}</style><div id=\"sk-container-id-1\" class=\"sk-top-container\"><div class=\"sk-text-repr-fallback\"><pre>RandomizedSearchCV(cv=5,\n",
              "                   estimator=XGBRegressor(base_score=None, booster=None,\n",
              "                                          callbacks=None,\n",
              "                                          colsample_bylevel=None,\n",
              "                                          colsample_bynode=None,\n",
              "                                          colsample_bytree=None,\n",
              "                                          early_stopping_rounds=None,\n",
              "                                          enable_categorical=False,\n",
              "                                          eval_metric=None, feature_types=None,\n",
              "                                          gamma=None, gpu_id=None,\n",
              "                                          grow_policy=None,\n",
              "                                          importance_type=None,\n",
              "                                          interaction_constraints=None,\n",
              "                                          learning_rate=...\n",
              "                                          monotone_constraints=None,\n",
              "                                          n_estimators=100, n_jobs=None,\n",
              "                                          num_parallel_tree=None,\n",
              "                                          predictor=None, random_state=None, ...),\n",
              "                   n_iter=5, n_jobs=-1,\n",
              "                   param_distributions={&#x27;colsample_bytree&#x27;: [0.3, 0.4, 0.5,\n",
              "                                                             0.7],\n",
              "                                        &#x27;gamma&#x27;: [0.0, 0.1, 0.2, 0.3, 0.4],\n",
              "                                        &#x27;learning_rate&#x27;: [0.05, 0.1, 0.15, 0.2,\n",
              "                                                          0.25, 0.3],\n",
              "                                        &#x27;max_depth&#x27;: [3, 4, 5, 6, 8, 10, 12,\n",
              "                                                      15],\n",
              "                                        &#x27;min_child_weight&#x27;: [1, 3, 5, 7]},\n",
              "                   scoring=&#x27;r2&#x27;, verbose=3)</pre><b>In a Jupyter environment, please rerun this cell to show the HTML representation or trust the notebook. <br />On GitHub, the HTML representation is unable to render, please try loading this page with nbviewer.org.</b></div><div class=\"sk-container\" hidden><div class=\"sk-item sk-dashed-wrapped\"><div class=\"sk-label-container\"><div class=\"sk-label sk-toggleable\"><input class=\"sk-toggleable__control sk-hidden--visually\" id=\"sk-estimator-id-1\" type=\"checkbox\" ><label for=\"sk-estimator-id-1\" class=\"sk-toggleable__label sk-toggleable__label-arrow\">RandomizedSearchCV</label><div class=\"sk-toggleable__content\"><pre>RandomizedSearchCV(cv=5,\n",
              "                   estimator=XGBRegressor(base_score=None, booster=None,\n",
              "                                          callbacks=None,\n",
              "                                          colsample_bylevel=None,\n",
              "                                          colsample_bynode=None,\n",
              "                                          colsample_bytree=None,\n",
              "                                          early_stopping_rounds=None,\n",
              "                                          enable_categorical=False,\n",
              "                                          eval_metric=None, feature_types=None,\n",
              "                                          gamma=None, gpu_id=None,\n",
              "                                          grow_policy=None,\n",
              "                                          importance_type=None,\n",
              "                                          interaction_constraints=None,\n",
              "                                          learning_rate=...\n",
              "                                          monotone_constraints=None,\n",
              "                                          n_estimators=100, n_jobs=None,\n",
              "                                          num_parallel_tree=None,\n",
              "                                          predictor=None, random_state=None, ...),\n",
              "                   n_iter=5, n_jobs=-1,\n",
              "                   param_distributions={&#x27;colsample_bytree&#x27;: [0.3, 0.4, 0.5,\n",
              "                                                             0.7],\n",
              "                                        &#x27;gamma&#x27;: [0.0, 0.1, 0.2, 0.3, 0.4],\n",
              "                                        &#x27;learning_rate&#x27;: [0.05, 0.1, 0.15, 0.2,\n",
              "                                                          0.25, 0.3],\n",
              "                                        &#x27;max_depth&#x27;: [3, 4, 5, 6, 8, 10, 12,\n",
              "                                                      15],\n",
              "                                        &#x27;min_child_weight&#x27;: [1, 3, 5, 7]},\n",
              "                   scoring=&#x27;r2&#x27;, verbose=3)</pre></div></div></div><div class=\"sk-parallel\"><div class=\"sk-parallel-item\"><div class=\"sk-item\"><div class=\"sk-label-container\"><div class=\"sk-label sk-toggleable\"><input class=\"sk-toggleable__control sk-hidden--visually\" id=\"sk-estimator-id-2\" type=\"checkbox\" ><label for=\"sk-estimator-id-2\" class=\"sk-toggleable__label sk-toggleable__label-arrow\">estimator: XGBRegressor</label><div class=\"sk-toggleable__content\"><pre>XGBRegressor(base_score=None, booster=None, callbacks=None,\n",
              "             colsample_bylevel=None, colsample_bynode=None,\n",
              "             colsample_bytree=None, early_stopping_rounds=None,\n",
              "             enable_categorical=False, eval_metric=None, feature_types=None,\n",
              "             gamma=None, gpu_id=None, grow_policy=None, importance_type=None,\n",
              "             interaction_constraints=None, learning_rate=None, max_bin=None,\n",
              "             max_cat_threshold=None, max_cat_to_onehot=None,\n",
              "             max_delta_step=None, max_depth=None, max_leaves=None,\n",
              "             min_child_weight=None, missing=nan, monotone_constraints=None,\n",
              "             n_estimators=100, n_jobs=None, num_parallel_tree=None,\n",
              "             predictor=None, random_state=None, ...)</pre></div></div></div><div class=\"sk-serial\"><div class=\"sk-item\"><div class=\"sk-estimator sk-toggleable\"><input class=\"sk-toggleable__control sk-hidden--visually\" id=\"sk-estimator-id-3\" type=\"checkbox\" ><label for=\"sk-estimator-id-3\" class=\"sk-toggleable__label sk-toggleable__label-arrow\">XGBRegressor</label><div class=\"sk-toggleable__content\"><pre>XGBRegressor(base_score=None, booster=None, callbacks=None,\n",
              "             colsample_bylevel=None, colsample_bynode=None,\n",
              "             colsample_bytree=None, early_stopping_rounds=None,\n",
              "             enable_categorical=False, eval_metric=None, feature_types=None,\n",
              "             gamma=None, gpu_id=None, grow_policy=None, importance_type=None,\n",
              "             interaction_constraints=None, learning_rate=None, max_bin=None,\n",
              "             max_cat_threshold=None, max_cat_to_onehot=None,\n",
              "             max_delta_step=None, max_depth=None, max_leaves=None,\n",
              "             min_child_weight=None, missing=nan, monotone_constraints=None,\n",
              "             n_estimators=100, n_jobs=None, num_parallel_tree=None,\n",
              "             predictor=None, random_state=None, ...)</pre></div></div></div></div></div></div></div></div></div></div>"
            ]
          },
          "metadata": {},
          "execution_count": 76
        }
      ]
    },
    {
      "cell_type": "code",
      "source": [
        "rs_model.cv_results_"
      ],
      "metadata": {
        "colab": {
          "base_uri": "https://localhost:8080/"
        },
        "id": "lv1CZQ4lM2yy",
        "outputId": "c7a4a1c6-6986-4c7c-bf1b-c93bb7270c0f"
      },
      "execution_count": null,
      "outputs": [
        {
          "output_type": "execute_result",
          "data": {
            "text/plain": [
              "{'mean_fit_time': array([198.7408752 , 299.43214898,  90.67391682,  42.32047143,\n",
              "        151.5681766 ]),\n",
              " 'std_fit_time': array([11.00716488,  4.00195815,  0.81949295,  0.46567921, 21.94616565]),\n",
              " 'mean_score_time': array([3.63930688, 1.86459208, 0.40070491, 0.24365067, 1.04134655]),\n",
              " 'std_score_time': array([1.02187753, 0.37134148, 0.02748577, 0.07769393, 0.29570219]),\n",
              " 'param_min_child_weight': masked_array(data=[1, 7, 3, 5, 3],\n",
              "              mask=[False, False, False, False, False],\n",
              "        fill_value='?',\n",
              "             dtype=object),\n",
              " 'param_max_depth': masked_array(data=[15, 15, 6, 3, 10],\n",
              "              mask=[False, False, False, False, False],\n",
              "        fill_value='?',\n",
              "             dtype=object),\n",
              " 'param_learning_rate': masked_array(data=[0.25, 0.3, 0.15, 0.15, 0.15],\n",
              "              mask=[False, False, False, False, False],\n",
              "        fill_value='?',\n",
              "             dtype=object),\n",
              " 'param_gamma': masked_array(data=[0.4, 0.3, 0.2, 0.0, 0.0],\n",
              "              mask=[False, False, False, False, False],\n",
              "        fill_value='?',\n",
              "             dtype=object),\n",
              " 'param_colsample_bytree': masked_array(data=[0.4, 0.7, 0.5, 0.5, 0.5],\n",
              "              mask=[False, False, False, False, False],\n",
              "        fill_value='?',\n",
              "             dtype=object),\n",
              " 'params': [{'min_child_weight': 1,\n",
              "   'max_depth': 15,\n",
              "   'learning_rate': 0.25,\n",
              "   'gamma': 0.4,\n",
              "   'colsample_bytree': 0.4},\n",
              "  {'min_child_weight': 7,\n",
              "   'max_depth': 15,\n",
              "   'learning_rate': 0.3,\n",
              "   'gamma': 0.3,\n",
              "   'colsample_bytree': 0.7},\n",
              "  {'min_child_weight': 3,\n",
              "   'max_depth': 6,\n",
              "   'learning_rate': 0.15,\n",
              "   'gamma': 0.2,\n",
              "   'colsample_bytree': 0.5},\n",
              "  {'min_child_weight': 5,\n",
              "   'max_depth': 3,\n",
              "   'learning_rate': 0.15,\n",
              "   'gamma': 0.0,\n",
              "   'colsample_bytree': 0.5},\n",
              "  {'min_child_weight': 3,\n",
              "   'max_depth': 10,\n",
              "   'learning_rate': 0.15,\n",
              "   'gamma': 0.0,\n",
              "   'colsample_bytree': 0.5}],\n",
              " 'split0_test_score': array([0.75655142, 0.77650679, 0.57693913, 0.42230861, 0.70765242]),\n",
              " 'split1_test_score': array([0.74153262, 0.75106356, 0.56214095, 0.41462023, 0.69862794]),\n",
              " 'split2_test_score': array([0.76035064, 0.77775836, 0.56853641, 0.42489721, 0.70308195]),\n",
              " 'split3_test_score': array([0.72362882, 0.77017082, 0.56202177, 0.42520337, 0.68900697]),\n",
              " 'split4_test_score': array([0.75172606, 0.77920741, 0.5834814 , 0.41301843, 0.71656626]),\n",
              " 'mean_test_score': array([0.74675791, 0.77094139, 0.57062393, 0.42000957, 0.70298711]),\n",
              " 'std_test_score': array([0.01317282, 0.01040667, 0.00843223, 0.00517825, 0.00917185]),\n",
              " 'rank_test_score': array([2, 1, 4, 5, 3], dtype=int32)}"
            ]
          },
          "metadata": {},
          "execution_count": 77
        }
      ]
    },
    {
      "cell_type": "code",
      "source": [
        "rs_model.best_estimator_.score(X_test,y_test)"
      ],
      "metadata": {
        "colab": {
          "base_uri": "https://localhost:8080/"
        },
        "id": "_OO23EfHMQbu",
        "outputId": "84ec31be-cbdc-4fb3-f377-86b7651a303a"
      },
      "execution_count": null,
      "outputs": [
        {
          "output_type": "execute_result",
          "data": {
            "text/plain": [
              "0.7967395689412567"
            ]
          },
          "metadata": {},
          "execution_count": 79
        }
      ]
    },
    {
      "cell_type": "markdown",
      "source": [
        "# Inference"
      ],
      "metadata": {
        "id": "X5N7k6XWlRBd"
      }
    },
    {
      "cell_type": "markdown",
      "source": [
        "Now, we graph predicted results for a single well."
      ],
      "metadata": {
        "id": "oyBX_saHWN9a"
      }
    },
    {
      "cell_type": "code",
      "source": [
        "df.columns"
      ],
      "metadata": {
        "colab": {
          "base_uri": "https://localhost:8080/"
        },
        "id": "6PNCZf-2lsGl",
        "outputId": "160c3e41-af65-4884-ab96-bea71e93c981"
      },
      "execution_count": null,
      "outputs": [
        {
          "output_type": "execute_result",
          "data": {
            "text/plain": [
              "Index(['DEPT', 'CNPOR', 'DCAL', 'DPOR', 'GR', 'RHOB', 'RHOC', 'RILD', 'RILM',\n",
              "       'RLL3', 'RXORT', 'SP', 'WELL', 'AVTX', 'BVTX'],\n",
              "      dtype='object')"
            ]
          },
          "metadata": {},
          "execution_count": 105
        }
      ]
    },
    {
      "cell_type": "code",
      "source": [
        "df.WELL.unique()"
      ],
      "metadata": {
        "colab": {
          "base_uri": "https://localhost:8080/"
        },
        "id": "DjLgr_U3mNlZ",
        "outputId": "9224d24a-ffaf-4220-9d18-aa27bd5d5c21"
      },
      "execution_count": null,
      "outputs": [
        {
          "output_type": "execute_result",
          "data": {
            "text/plain": [
              "array(['1052987184', '1052987195', '1052987201', '1052987218',\n",
              "       '1052987223', '1052987227', '1052987231', '1052987237',\n",
              "       '1052987257', '1052997244', '1053009232', '1053011951',\n",
              "       '1053014529', '1053017310', '1053051804', '1053076196',\n",
              "       '1053076205', '1053076219', '1053076225', '1053145757',\n",
              "       '1053192852', '1053192858', '1053225933', '1053230972',\n",
              "       '1053239547', '1053239553', '1053240866', '1053243844',\n",
              "       '1053243845', '1053243853', '1053243854', '1053244666',\n",
              "       '1053246764', '1053251243', '1053251247', '1053251280',\n",
              "       '1053253945', '1053253979', '1053262500', '1053262508',\n",
              "       '1053263309', '1053263319', '1053264006', '1053271825',\n",
              "       '1053271839', '1053271848', '1053271856', '1053271865',\n",
              "       '1053281971', '1053282080', '1053282085', '1053285821',\n",
              "       '1053286544', '1053295419', '1053295426', '1053295431',\n",
              "       '1053318615', '1053318721', '1053318726', '1053318743',\n",
              "       '1053318746', '1053318752', '1053318756'], dtype=object)"
            ]
          },
          "metadata": {},
          "execution_count": 106
        }
      ]
    },
    {
      "cell_type": "code",
      "source": [
        "df_w = df[df['WELL']=='1053243854']"
      ],
      "metadata": {
        "id": "G7dxoSj7mTEV"
      },
      "execution_count": null,
      "outputs": []
    },
    {
      "cell_type": "code",
      "source": [
        "my_train_lst.remove('GR')"
      ],
      "metadata": {
        "id": "gopVRT4eX39H"
      },
      "execution_count": null,
      "outputs": []
    },
    {
      "cell_type": "code",
      "source": [
        "s = scaler.transform(df_w[my_train_lst])"
      ],
      "metadata": {
        "id": "Bf1BC4VsY7ju"
      },
      "execution_count": null,
      "outputs": []
    },
    {
      "cell_type": "code",
      "source": [
        "w = pd.DataFrame(df_w,columns=my_train_lst)"
      ],
      "metadata": {
        "id": "3JXQVCo1ZYo2"
      },
      "execution_count": null,
      "outputs": []
    },
    {
      "cell_type": "code",
      "source": [
        "w['GRy'] = dt.predict(w)"
      ],
      "metadata": {
        "id": "4P8T4Am9mwdJ"
      },
      "execution_count": null,
      "outputs": []
    },
    {
      "cell_type": "code",
      "source": [
        "w['GR'] = df_w['GR']"
      ],
      "metadata": {
        "id": "3PTsDZv7Z58h"
      },
      "execution_count": null,
      "outputs": []
    },
    {
      "cell_type": "code",
      "source": [
        "fig, axes = plt.subplots(figsize=(10,10))\n",
        "\n",
        "curve_names = ['Gamma', 'Pred-Gamma']\n",
        "\n",
        "\n",
        "#Set up the plot axes\n",
        "ax1 = plt.subplot2grid((1,3), (0,0), rowspan=1, colspan = 1)\n",
        "ax2 = ax1.twiny()\n",
        "\n",
        "\n",
        "#Set up the individual log tracks / subplots\n",
        "ax1.plot(\"GR\", \"DEPT\", data = w, color = \"green\", lw = 0.5)\n",
        "ax1.set_xlim(0, 200)\n",
        "\n",
        "ax2.plot(\"GRy\", \"DEPT\", data = w, color = \"red\", lw = 0.5)\n",
        "ax2.set_xlim(0, 200)\n",
        "\n",
        "#Set up the common elements between the subplots\n",
        "for i, ax in enumerate(fig.axes):\n",
        "    #ax.set_ylim(4700, 3500) # Set the depth range\n",
        "\n",
        "    ax.xaxis.set_ticks_position(\"top\")\n",
        "    ax.xaxis.set_label_position(\"top\")\n",
        "    #ax.set_xlabel(curve_names[i])\n",
        "    ax.spines[\"top\"].set_position((\"axes\", 1.08))\n",
        "\n",
        "\n",
        "#Reduce the space between each subplot\n",
        "plt.show()"
      ],
      "metadata": {
        "colab": {
          "base_uri": "https://localhost:8080/",
          "height": 948
        },
        "id": "zlgtdO6UleTD",
        "outputId": "5fe86e0f-0183-4286-80f2-3b1e08741a25"
      },
      "execution_count": null,
      "outputs": [
        {
          "output_type": "stream",
          "name": "stderr",
          "text": [
            "<ipython-input-140-72802664d153>:7: MatplotlibDeprecationWarning: Auto-removal of overlapping axes is deprecated since 3.6 and will be removed two minor releases later; explicitly call ax.remove() as needed.\n",
            "  ax1 = plt.subplot2grid((1,3), (0,0), rowspan=1, colspan = 1)\n"
          ]
        },
        {
          "output_type": "display_data",
          "data": {
            "text/plain": [
              "<Figure size 1000x1000 with 2 Axes>"
            ],
            "image/png": "[encoded data removed]"
          },
          "metadata": {}
        }
      ]
    },
    {
      "cell_type": "markdown",
      "source": [
        "# Dimensionality Reduction\n",
        "\n",
        "It can be used to reduce dimensions of a big dataset (seismic) for example. Here we will try it for sake of demo."
      ],
      "metadata": {
        "id": "Nk1vOSdbnZxt"
      }
    },
    {
      "cell_type": "code",
      "source": [
        "df_pca = df.drop(['WELL','GR'],axis=1)"
      ],
      "metadata": {
        "id": "EBIjvhzjFRyv"
      },
      "execution_count": null,
      "outputs": []
    },
    {
      "cell_type": "markdown",
      "source": [
        "One thing about PCA is you need to select number of componenets. Explained variance ratio shows how much can be explained from the features. Here it doesn't make sense since number of features is very low. However, if you are working with seismic with many features there, you would need definitly PCA to try to reduce data dimensioin. But, you will lose explaination about what featues went into training and what features effected computation most."
      ],
      "metadata": {
        "id": "Seyuq0LmiZfE"
      }
    },
    {
      "cell_type": "code",
      "source": [
        "pca = PCA(n_components=5)\n",
        "pca.fit(df_pca)\n",
        "var = pca.explained_variance_ratio_\n",
        "print(var)"
      ],
      "metadata": {
        "colab": {
          "base_uri": "https://localhost:8080/"
        },
        "id": "uga9bUEgFZo6",
        "outputId": "c5062b7c-6bb4-4a24-ee17-c21b93367c02"
      },
      "execution_count": null,
      "outputs": [
        {
          "output_type": "stream",
          "name": "stdout",
          "text": [
            "[7.56604199e-01 2.38395498e-01 2.85084993e-03 1.38172878e-03\n",
            " 5.51681647e-04]\n"
          ]
        }
      ]
    },
    {
      "cell_type": "markdown",
      "source": [
        "# DL\n",
        "Here we will perform deep learning methods such as ANN and RNN (LSTM) on time series data. We start by loading data."
      ],
      "metadata": {
        "id": "Qk1cN0kYz1gs"
      }
    },
    {
      "cell_type": "code",
      "source": [
        "X = data.drop('GR',axis=1)\n",
        "y = data['GR']"
      ],
      "metadata": {
        "id": "CMEusnMX0fnb"
      },
      "execution_count": 32,
      "outputs": []
    },
    {
      "cell_type": "markdown",
      "source": [
        "Pytorch or tensorflow work by ingesting data as a Tensor. A tensor is a unit in GPU that optimizes computation as deep learning is most relevant to usage of GPU in order to perform matrix multiplication efficiently."
      ],
      "metadata": {
        "id": "_padx2F1gHOm"
      }
    },
    {
      "cell_type": "code",
      "source": [
        "X = torch.tensor(X.to_numpy(), dtype=torch.float32)\n",
        "y = torch.tensor(y.to_numpy(), dtype=torch.float32).reshape(-1, 1)"
      ],
      "metadata": {
        "id": "SjL1kgYS0N_F"
      },
      "execution_count": 34,
      "outputs": []
    },
    {
      "cell_type": "code",
      "source": [
        "X.shape"
      ],
      "metadata": {
        "colab": {
          "base_uri": "https://localhost:8080/"
        },
        "id": "lkz9wOUL05WE",
        "outputId": "ebd4aa5e-f4c0-414b-e7cb-4432445820c1"
      },
      "execution_count": 35,
      "outputs": [
        {
          "output_type": "execute_result",
          "data": {
            "text/plain": [
              "torch.Size([573870, 12])"
            ]
          },
          "metadata": {},
          "execution_count": 35
        }
      ]
    },
    {
      "cell_type": "markdown",
      "source": [
        "Below is code base for simple Artificial Neural Network. Notice we have 1 input layer and one hidden layer. The more layers you have the more complex the network becomes. However, it is not necessary means you will arrive at good solution. Sometimes, deep networks are guilty of overfitting meaning they know how to solve training set but unable to solve for test set. Notice we used Relu which is an algorithm that will normalize output."
      ],
      "metadata": {
        "id": "PTQUESVBgnE3"
      }
    },
    {
      "cell_type": "code",
      "source": [
        "class ANNRegressor(nn.Module):\n",
        "    def __init__(self):\n",
        "        super().__init__()\n",
        "        self.input = nn.Linear(12, 24) # notice I used number of features as input shape\n",
        "        self.act1 = nn.ReLU()\n",
        "        self.hidden = nn.Linear(24, 8)\n",
        "        self.act2 = nn.ReLU()\n",
        "        self.output = nn.Linear(8, 1)\n",
        "\n",
        "    def forward(self, x):\n",
        "        x = self.act1(self.input(x))\n",
        "        x = self.act2(self.hidden(x))\n",
        "        x = self.output(x)\n",
        "        return x\n",
        "\n",
        "model = ANNRegressor()\n",
        "print(model)"
      ],
      "metadata": {
        "colab": {
          "base_uri": "https://localhost:8080/"
        },
        "id": "5a6nC06C0ntR",
        "outputId": "7532ab9a-cdeb-406b-9f80-87d7b7f3521d"
      },
      "execution_count": 40,
      "outputs": [
        {
          "output_type": "stream",
          "name": "stdout",
          "text": [
            "ANNRegressor(\n",
            "  (hidden1): Linear(in_features=12, out_features=24, bias=True)\n",
            "  (act1): ReLU()\n",
            "  (hidden2): Linear(in_features=24, out_features=8, bias=True)\n",
            "  (act2): ReLU()\n",
            "  (output): Linear(in_features=8, out_features=1, bias=True)\n",
            ")\n"
          ]
        }
      ]
    },
    {
      "cell_type": "markdown",
      "source": [
        "Long Short term memory cell is an advancment in deep learning. The idea is that this cell will memorize previous steps and use them in calculation. Unlike previous one where we explicitly used Relu, here the cell will use tanh to normalize output."
      ],
      "metadata": {
        "id": "5Vg8WO10hI1f"
      }
    },
    {
      "cell_type": "code",
      "source": [
        "class LSTMRegressor(nn.Module):\n",
        "    def __init__(self):\n",
        "        super().__init__()\n",
        "        self.hidden1 = nn.Linear(12, 24) # same here using number of features as input\n",
        "        self.act1 = nn.ReLU()\n",
        "        self.hidden2 = nn.Linear(24, 8)\n",
        "        self.lstm = nn.LSTM(input_size=8, hidden_size=50, num_layers=1, batch_first=True)\n",
        "        self.hidden3 = nn.Linear(50,8)\n",
        "        self.output = nn.Linear(8, 1)\n",
        "\n",
        "    def forward(self, x):\n",
        "        x = self.act1(self.hidden1(x))\n",
        "        x = self.act1(self.hidden2(x))\n",
        "        x,_ = self.lstm(x)\n",
        "        x = self.act1(self.hidden3(x))\n",
        "        x = self.output(x)\n",
        "        return x\n",
        "\n",
        "model = LSTMRegressor()\n",
        "print(model)"
      ],
      "metadata": {
        "colab": {
          "base_uri": "https://localhost:8080/"
        },
        "id": "PzSEo2nL2gJ9",
        "outputId": "86a89fe1-57e5-463e-800b-671addd85803"
      },
      "execution_count": 52,
      "outputs": [
        {
          "output_type": "stream",
          "name": "stdout",
          "text": [
            "LSTMRegressor(\n",
            "  (hidden1): Linear(in_features=12, out_features=24, bias=True)\n",
            "  (act1): ReLU()\n",
            "  (hidden2): Linear(in_features=24, out_features=8, bias=True)\n",
            "  (lstm): LSTM(8, 50, batch_first=True)\n",
            "  (hidden3): Linear(in_features=50, out_features=8, bias=True)\n",
            "  (output): Linear(in_features=8, out_features=1, bias=True)\n",
            ")\n"
          ]
        }
      ]
    },
    {
      "cell_type": "markdown",
      "source": [
        "Loss function is an important concept in deep learning. Means how to measure loss (gradient descent value). For regression, it is common to use Mean square error. While for classification, it is common to use cross entropy."
      ],
      "metadata": {
        "id": "the0_jITgjPw"
      }
    },
    {
      "cell_type": "markdown",
      "source": [
        "Another somewhat important concept is optimizer. It is necessary to use optimizer to know how to behave in gradient descent. It is common to use Adam, RMSprop, and other fuctions that utilize learning rate. The smaller the learning rate the slower the function becomes. However, it is more guranteed to reach optimal result."
      ],
      "metadata": {
        "id": "mkqur7N-hvCd"
      }
    },
    {
      "cell_type": "code",
      "source": [
        "loss_fn = nn.MSELoss()  # mean squared error for regression\n",
        "optimizer = optim.Adam(model.parameters(), lr=0.001)"
      ],
      "metadata": {
        "id": "7Cf_wNzU1FzL"
      },
      "execution_count": 53,
      "outputs": []
    },
    {
      "cell_type": "markdown",
      "source": [
        "Here we have epochs which is a term for how many times we iterate and try to solve again. Batch size is how many data points will go into tensor. The larger the more inefficient computation becomes."
      ],
      "metadata": {
        "id": "9lmYl9vDiGin"
      }
    },
    {
      "cell_type": "code",
      "source": [
        "\n",
        "n_epochs = 100\n",
        "batch_size = 128\n",
        "\n",
        "for epoch in range(n_epochs):\n",
        "    for i in range(0, len(X), batch_size):\n",
        "        Xbatch = X[i:i+batch_size]\n",
        "        y_pred = model(Xbatch)\n",
        "        ybatch = y[i:i+batch_size]\n",
        "        loss = loss_fn(y_pred, ybatch)\n",
        "        optimizer.zero_grad()\n",
        "        loss.backward()\n",
        "        optimizer.step()\n",
        "    print(f'Finished epoch {epoch}, latest loss {loss}')"
      ],
      "metadata": {
        "colab": {
          "base_uri": "https://localhost:8080/",
          "height": 703
        },
        "id": "LzBnYF-91QIj",
        "outputId": "9331a1ef-3601-4f76-f606-bb5bc65b303e"
      },
      "execution_count": 54,
      "outputs": [
        {
          "output_type": "stream",
          "name": "stdout",
          "text": [
            "Finished epoch 0, latest loss 905.7606201171875\n",
            "Finished epoch 1, latest loss 867.7628173828125\n",
            "Finished epoch 2, latest loss 865.16259765625\n",
            "Finished epoch 3, latest loss 867.310546875\n",
            "Finished epoch 4, latest loss 822.4961547851562\n",
            "Finished epoch 5, latest loss 845.9738159179688\n",
            "Finished epoch 6, latest loss 812.5929565429688\n",
            "Finished epoch 7, latest loss 779.4234619140625\n",
            "Finished epoch 8, latest loss 735.7471923828125\n",
            "Finished epoch 9, latest loss 798.935546875\n",
            "Finished epoch 10, latest loss 814.2783813476562\n",
            "Finished epoch 11, latest loss 847.68896484375\n",
            "Finished epoch 12, latest loss 888.4815673828125\n",
            "Finished epoch 13, latest loss 905.7279052734375\n",
            "Finished epoch 14, latest loss 936.7615356445312\n",
            "Finished epoch 15, latest loss 971.9105224609375\n",
            "Finished epoch 16, latest loss 935.9447021484375\n"
          ]
        },
        {
          "output_type": "error",
          "ename": "KeyboardInterrupt",
          "evalue": "ignored",
          "traceback": [
            "\u001b[0;31m---------------------------------------------------------------------------\u001b[0m",
            "\u001b[0;31mKeyboardInterrupt\u001b[0m                         Traceback (most recent call last)",
            "\u001b[0;32m<ipython-input-54-c550bd28a520>\u001b[0m in \u001b[0;36m<cell line: 4>\u001b[0;34m()\u001b[0m\n\u001b[1;32m      9\u001b[0m         \u001b[0mloss\u001b[0m \u001b[0;34m=\u001b[0m \u001b[0mloss_fn\u001b[0m\u001b[0;34m(\u001b[0m\u001b[0my_pred\u001b[0m\u001b[0;34m,\u001b[0m \u001b[0mybatch\u001b[0m\u001b[0;34m)\u001b[0m\u001b[0;34m\u001b[0m\u001b[0;34m\u001b[0m\u001b[0m\n\u001b[1;32m     10\u001b[0m         \u001b[0moptimizer\u001b[0m\u001b[0;34m.\u001b[0m\u001b[0mzero_grad\u001b[0m\u001b[0;34m(\u001b[0m\u001b[0;34m)\u001b[0m\u001b[0;34m\u001b[0m\u001b[0;34m\u001b[0m\u001b[0m\n\u001b[0;32m---> 11\u001b[0;31m         \u001b[0mloss\u001b[0m\u001b[0;34m.\u001b[0m\u001b[0mbackward\u001b[0m\u001b[0;34m(\u001b[0m\u001b[0;34m)\u001b[0m\u001b[0;34m\u001b[0m\u001b[0;34m\u001b[0m\u001b[0m\n\u001b[0m\u001b[1;32m     12\u001b[0m         \u001b[0moptimizer\u001b[0m\u001b[0;34m.\u001b[0m\u001b[0mstep\u001b[0m\u001b[0;34m(\u001b[0m\u001b[0;34m)\u001b[0m\u001b[0;34m\u001b[0m\u001b[0;34m\u001b[0m\u001b[0m\n\u001b[1;32m     13\u001b[0m     \u001b[0mprint\u001b[0m\u001b[0;34m(\u001b[0m\u001b[0;34mf'Finished epoch {epoch}, latest loss {loss}'\u001b[0m\u001b[0;34m)\u001b[0m\u001b[0;34m\u001b[0m\u001b[0;34m\u001b[0m\u001b[0m\n",
            "\u001b[0;32m/usr/local/lib/python3.10/dist-packages/torch/_tensor.py\u001b[0m in \u001b[0;36mbackward\u001b[0;34m(self, gradient, retain_graph, create_graph, inputs)\u001b[0m\n\u001b[1;32m    485\u001b[0m                 \u001b[0minputs\u001b[0m\u001b[0;34m=\u001b[0m\u001b[0minputs\u001b[0m\u001b[0;34m,\u001b[0m\u001b[0;34m\u001b[0m\u001b[0;34m\u001b[0m\u001b[0m\n\u001b[1;32m    486\u001b[0m             )\n\u001b[0;32m--> 487\u001b[0;31m         torch.autograd.backward(\n\u001b[0m\u001b[1;32m    488\u001b[0m             \u001b[0mself\u001b[0m\u001b[0;34m,\u001b[0m \u001b[0mgradient\u001b[0m\u001b[0;34m,\u001b[0m \u001b[0mretain_graph\u001b[0m\u001b[0;34m,\u001b[0m \u001b[0mcreate_graph\u001b[0m\u001b[0;34m,\u001b[0m \u001b[0minputs\u001b[0m\u001b[0;34m=\u001b[0m\u001b[0minputs\u001b[0m\u001b[0;34m\u001b[0m\u001b[0;34m\u001b[0m\u001b[0m\n\u001b[1;32m    489\u001b[0m         )\n",
            "\u001b[0;32m/usr/local/lib/python3.10/dist-packages/torch/autograd/__init__.py\u001b[0m in \u001b[0;36mbackward\u001b[0;34m(tensors, grad_tensors, retain_graph, create_graph, grad_variables, inputs)\u001b[0m\n\u001b[1;32m    198\u001b[0m     \u001b[0;31m# some Python versions print out the first line of a multi-line function\u001b[0m\u001b[0;34m\u001b[0m\u001b[0;34m\u001b[0m\u001b[0m\n\u001b[1;32m    199\u001b[0m     \u001b[0;31m# calls in the traceback and some print out the last line\u001b[0m\u001b[0;34m\u001b[0m\u001b[0;34m\u001b[0m\u001b[0m\n\u001b[0;32m--> 200\u001b[0;31m     Variable._execution_engine.run_backward(  # Calls into the C++ engine to run the backward pass\n\u001b[0m\u001b[1;32m    201\u001b[0m         \u001b[0mtensors\u001b[0m\u001b[0;34m,\u001b[0m \u001b[0mgrad_tensors_\u001b[0m\u001b[0;34m,\u001b[0m \u001b[0mretain_graph\u001b[0m\u001b[0;34m,\u001b[0m \u001b[0mcreate_graph\u001b[0m\u001b[0;34m,\u001b[0m \u001b[0minputs\u001b[0m\u001b[0;34m,\u001b[0m\u001b[0;34m\u001b[0m\u001b[0;34m\u001b[0m\u001b[0m\n\u001b[1;32m    202\u001b[0m         allow_unreachable=True, accumulate_grad=True)  # Calls into the C++ engine to run the backward pass\n",
            "\u001b[0;31mKeyboardInterrupt\u001b[0m: "
          ]
        }
      ]
    }
  ]
}